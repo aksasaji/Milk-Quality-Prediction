{
  "nbformat": 4,
  "nbformat_minor": 0,
  "metadata": {
    "colab": {
      "provenance": []
    },
    "kernelspec": {
      "name": "python3",
      "display_name": "Python 3"
    },
    "language_info": {
      "name": "python"
    }
  },
  "cells": [
    {
      "cell_type": "markdown",
      "source": [
        "# **Milk Quality Prediction**\n",
        "Life cycle of Machine Learning Project\n",
        "\n",
        "\n",
        "*   Understanding the problem statement\n",
        "*   Data Collection \n",
        "*   Exploratory Data Analysis\n",
        "*   Data Cleaning \n",
        "*   Data Pre-Processing\n",
        "*   Model Training\n",
        "*   Feature Imoortance Using Random Forest Classifier\n",
        "*   PCA of Features\n",
        "*   Artificial Neural Network\n",
        "\n",
        "\n",
        "\n",
        "\n",
        "\n",
        "\n",
        "\n",
        "\n",
        "\n",
        "\n",
        "\n",
        "\n",
        "\n",
        "\n",
        "\n",
        "\n",
        "\n",
        "\n"
      ],
      "metadata": {
        "id": "URQS184bY_D0"
      }
    },
    {
      "cell_type": "markdown",
      "source": [
        "#  **Description of Dataset**:\n",
        "\n",
        "This dataset is manually collected from observations. It helps us to build machine learning models to predict the quality of milk. This dataset consists of 7 independent variables ie pH, Temperature, Taste, Odor, Fat, Turbidity, and Color.\n",
        "\n",
        "pH: This feature defines pH of the milk, which is in the range of 3 to 9.5. temperature: This feature defines the temperature of the milk, and its range is from 34'C to 90'C.\n",
        "\n",
        "taste: This feature defines the taste of the milk and takes the possibles values: 1 (good) or 0 (bad).\n",
        "\n",
        "odor: This feature defines the odor of the milk and takes the possibles values: 1 (good) or 0 (bad).\n",
        "\n",
        "fat: This feature defines fat of the milk and takes the possibles values: 1 (good) or 0 (bad).\n",
        "\n",
        "turbidity: This feature defines the turbidity of the milk and takes the possibles values: 1 (good) or 0 (bad).\n",
        "\n",
        "colour: This feature defines the color of the milk, which is in the range of 240 to 255.\n",
        "\n",
        "grade: This is the target and takes the values: low_quality, medium_quality, or high_quality.\n",
        "\n",
        "We have to perform data processing, and data augumentation to build statistical and predictive models to predict the quality of the milk.\n"
      ],
      "metadata": {
        "id": "MW2lFKBNX0mG"
      }
    },
    {
      "cell_type": "markdown",
      "source": [
        "# **Importing Libraries**"
      ],
      "metadata": {
        "id": "rZpvKKXvd8k7"
      }
    },
    {
      "cell_type": "code",
      "execution_count": 492,
      "metadata": {
        "id": "_mlcBzu9qBdO"
      },
      "outputs": [],
      "source": [
        "import numpy as np\n",
        "import pandas as pd\n",
        "import seaborn as sns\n",
        "import matplotlib.pyplot as plt\n",
        "from sklearn.model_selection import train_test_split\n",
        "from sklearn.metrics import accuracy_score\n",
        "import warnings\n",
        "warnings.filterwarnings('ignore')"
      ]
    },
    {
      "cell_type": "markdown",
      "source": [
        "# **Loading the Dataset**"
      ],
      "metadata": {
        "id": "KJSZkARbeqPy"
      }
    },
    {
      "cell_type": "code",
      "source": [
        "df=pd.read_csv('/content/drive/MyDrive/dataset/milknew.csv')\n",
        "df"
      ],
      "metadata": {
        "id": "qlll_jNsroke",
        "colab": {
          "base_uri": "https://localhost:8080/",
          "height": 424
        },
        "outputId": "732af620-719d-41a8-f201-ee0c8e248ec9"
      },
      "execution_count": 493,
      "outputs": [
        {
          "output_type": "execute_result",
          "data": {
            "text/plain": [
              "       pH  Temprature  Taste  Odor  Fat   Turbidity  Colour   Grade\n",
              "0     6.6          35      1     0     1          0     254    high\n",
              "1     6.6          36      0     1     0          1     253    high\n",
              "2     8.5          70      1     1     1          1     246     low\n",
              "3     9.5          34      1     1     0          1     255     low\n",
              "4     6.6          37      0     0     0          0     255  medium\n",
              "...   ...         ...    ...   ...   ...        ...     ...     ...\n",
              "1054  6.7          45      1     1     0          0     247  medium\n",
              "1055  6.7          38      1     0     1          0     255    high\n",
              "1056  3.0          40      1     1     1          1     255     low\n",
              "1057  6.8          43      1     0     1          0     250    high\n",
              "1058  8.6          55      0     1     1          1     255     low\n",
              "\n",
              "[1059 rows x 8 columns]"
            ],
            "text/html": [
              "\n",
              "  <div id=\"df-52cf067a-8a9f-4fb9-a030-2294e7b04720\">\n",
              "    <div class=\"colab-df-container\">\n",
              "      <div>\n",
              "<style scoped>\n",
              "    .dataframe tbody tr th:only-of-type {\n",
              "        vertical-align: middle;\n",
              "    }\n",
              "\n",
              "    .dataframe tbody tr th {\n",
              "        vertical-align: top;\n",
              "    }\n",
              "\n",
              "    .dataframe thead th {\n",
              "        text-align: right;\n",
              "    }\n",
              "</style>\n",
              "<table border=\"1\" class=\"dataframe\">\n",
              "  <thead>\n",
              "    <tr style=\"text-align: right;\">\n",
              "      <th></th>\n",
              "      <th>pH</th>\n",
              "      <th>Temprature</th>\n",
              "      <th>Taste</th>\n",
              "      <th>Odor</th>\n",
              "      <th>Fat</th>\n",
              "      <th>Turbidity</th>\n",
              "      <th>Colour</th>\n",
              "      <th>Grade</th>\n",
              "    </tr>\n",
              "  </thead>\n",
              "  <tbody>\n",
              "    <tr>\n",
              "      <th>0</th>\n",
              "      <td>6.6</td>\n",
              "      <td>35</td>\n",
              "      <td>1</td>\n",
              "      <td>0</td>\n",
              "      <td>1</td>\n",
              "      <td>0</td>\n",
              "      <td>254</td>\n",
              "      <td>high</td>\n",
              "    </tr>\n",
              "    <tr>\n",
              "      <th>1</th>\n",
              "      <td>6.6</td>\n",
              "      <td>36</td>\n",
              "      <td>0</td>\n",
              "      <td>1</td>\n",
              "      <td>0</td>\n",
              "      <td>1</td>\n",
              "      <td>253</td>\n",
              "      <td>high</td>\n",
              "    </tr>\n",
              "    <tr>\n",
              "      <th>2</th>\n",
              "      <td>8.5</td>\n",
              "      <td>70</td>\n",
              "      <td>1</td>\n",
              "      <td>1</td>\n",
              "      <td>1</td>\n",
              "      <td>1</td>\n",
              "      <td>246</td>\n",
              "      <td>low</td>\n",
              "    </tr>\n",
              "    <tr>\n",
              "      <th>3</th>\n",
              "      <td>9.5</td>\n",
              "      <td>34</td>\n",
              "      <td>1</td>\n",
              "      <td>1</td>\n",
              "      <td>0</td>\n",
              "      <td>1</td>\n",
              "      <td>255</td>\n",
              "      <td>low</td>\n",
              "    </tr>\n",
              "    <tr>\n",
              "      <th>4</th>\n",
              "      <td>6.6</td>\n",
              "      <td>37</td>\n",
              "      <td>0</td>\n",
              "      <td>0</td>\n",
              "      <td>0</td>\n",
              "      <td>0</td>\n",
              "      <td>255</td>\n",
              "      <td>medium</td>\n",
              "    </tr>\n",
              "    <tr>\n",
              "      <th>...</th>\n",
              "      <td>...</td>\n",
              "      <td>...</td>\n",
              "      <td>...</td>\n",
              "      <td>...</td>\n",
              "      <td>...</td>\n",
              "      <td>...</td>\n",
              "      <td>...</td>\n",
              "      <td>...</td>\n",
              "    </tr>\n",
              "    <tr>\n",
              "      <th>1054</th>\n",
              "      <td>6.7</td>\n",
              "      <td>45</td>\n",
              "      <td>1</td>\n",
              "      <td>1</td>\n",
              "      <td>0</td>\n",
              "      <td>0</td>\n",
              "      <td>247</td>\n",
              "      <td>medium</td>\n",
              "    </tr>\n",
              "    <tr>\n",
              "      <th>1055</th>\n",
              "      <td>6.7</td>\n",
              "      <td>38</td>\n",
              "      <td>1</td>\n",
              "      <td>0</td>\n",
              "      <td>1</td>\n",
              "      <td>0</td>\n",
              "      <td>255</td>\n",
              "      <td>high</td>\n",
              "    </tr>\n",
              "    <tr>\n",
              "      <th>1056</th>\n",
              "      <td>3.0</td>\n",
              "      <td>40</td>\n",
              "      <td>1</td>\n",
              "      <td>1</td>\n",
              "      <td>1</td>\n",
              "      <td>1</td>\n",
              "      <td>255</td>\n",
              "      <td>low</td>\n",
              "    </tr>\n",
              "    <tr>\n",
              "      <th>1057</th>\n",
              "      <td>6.8</td>\n",
              "      <td>43</td>\n",
              "      <td>1</td>\n",
              "      <td>0</td>\n",
              "      <td>1</td>\n",
              "      <td>0</td>\n",
              "      <td>250</td>\n",
              "      <td>high</td>\n",
              "    </tr>\n",
              "    <tr>\n",
              "      <th>1058</th>\n",
              "      <td>8.6</td>\n",
              "      <td>55</td>\n",
              "      <td>0</td>\n",
              "      <td>1</td>\n",
              "      <td>1</td>\n",
              "      <td>1</td>\n",
              "      <td>255</td>\n",
              "      <td>low</td>\n",
              "    </tr>\n",
              "  </tbody>\n",
              "</table>\n",
              "<p>1059 rows × 8 columns</p>\n",
              "</div>\n",
              "      <button class=\"colab-df-convert\" onclick=\"convertToInteractive('df-52cf067a-8a9f-4fb9-a030-2294e7b04720')\"\n",
              "              title=\"Convert this dataframe to an interactive table.\"\n",
              "              style=\"display:none;\">\n",
              "        \n",
              "  <svg xmlns=\"http://www.w3.org/2000/svg\" height=\"24px\"viewBox=\"0 0 24 24\"\n",
              "       width=\"24px\">\n",
              "    <path d=\"M0 0h24v24H0V0z\" fill=\"none\"/>\n",
              "    <path d=\"M18.56 5.44l.94 2.06.94-2.06 2.06-.94-2.06-.94-.94-2.06-.94 2.06-2.06.94zm-11 1L8.5 8.5l.94-2.06 2.06-.94-2.06-.94L8.5 2.5l-.94 2.06-2.06.94zm10 10l.94 2.06.94-2.06 2.06-.94-2.06-.94-.94-2.06-.94 2.06-2.06.94z\"/><path d=\"M17.41 7.96l-1.37-1.37c-.4-.4-.92-.59-1.43-.59-.52 0-1.04.2-1.43.59L10.3 9.45l-7.72 7.72c-.78.78-.78 2.05 0 2.83L4 21.41c.39.39.9.59 1.41.59.51 0 1.02-.2 1.41-.59l7.78-7.78 2.81-2.81c.8-.78.8-2.07 0-2.86zM5.41 20L4 18.59l7.72-7.72 1.47 1.35L5.41 20z\"/>\n",
              "  </svg>\n",
              "      </button>\n",
              "      \n",
              "  <style>\n",
              "    .colab-df-container {\n",
              "      display:flex;\n",
              "      flex-wrap:wrap;\n",
              "      gap: 12px;\n",
              "    }\n",
              "\n",
              "    .colab-df-convert {\n",
              "      background-color: #E8F0FE;\n",
              "      border: none;\n",
              "      border-radius: 50%;\n",
              "      cursor: pointer;\n",
              "      display: none;\n",
              "      fill: #1967D2;\n",
              "      height: 32px;\n",
              "      padding: 0 0 0 0;\n",
              "      width: 32px;\n",
              "    }\n",
              "\n",
              "    .colab-df-convert:hover {\n",
              "      background-color: #E2EBFA;\n",
              "      box-shadow: 0px 1px 2px rgba(60, 64, 67, 0.3), 0px 1px 3px 1px rgba(60, 64, 67, 0.15);\n",
              "      fill: #174EA6;\n",
              "    }\n",
              "\n",
              "    [theme=dark] .colab-df-convert {\n",
              "      background-color: #3B4455;\n",
              "      fill: #D2E3FC;\n",
              "    }\n",
              "\n",
              "    [theme=dark] .colab-df-convert:hover {\n",
              "      background-color: #434B5C;\n",
              "      box-shadow: 0px 1px 3px 1px rgba(0, 0, 0, 0.15);\n",
              "      filter: drop-shadow(0px 1px 2px rgba(0, 0, 0, 0.3));\n",
              "      fill: #FFFFFF;\n",
              "    }\n",
              "  </style>\n",
              "\n",
              "      <script>\n",
              "        const buttonEl =\n",
              "          document.querySelector('#df-52cf067a-8a9f-4fb9-a030-2294e7b04720 button.colab-df-convert');\n",
              "        buttonEl.style.display =\n",
              "          google.colab.kernel.accessAllowed ? 'block' : 'none';\n",
              "\n",
              "        async function convertToInteractive(key) {\n",
              "          const element = document.querySelector('#df-52cf067a-8a9f-4fb9-a030-2294e7b04720');\n",
              "          const dataTable =\n",
              "            await google.colab.kernel.invokeFunction('convertToInteractive',\n",
              "                                                     [key], {});\n",
              "          if (!dataTable) return;\n",
              "\n",
              "          const docLinkHtml = 'Like what you see? Visit the ' +\n",
              "            '<a target=\"_blank\" href=https://colab.research.google.com/notebooks/data_table.ipynb>data table notebook</a>'\n",
              "            + ' to learn more about interactive tables.';\n",
              "          element.innerHTML = '';\n",
              "          dataTable['output_type'] = 'display_data';\n",
              "          await google.colab.output.renderOutput(dataTable, element);\n",
              "          const docLink = document.createElement('div');\n",
              "          docLink.innerHTML = docLinkHtml;\n",
              "          element.appendChild(docLink);\n",
              "        }\n",
              "      </script>\n",
              "    </div>\n",
              "  </div>\n",
              "  "
            ]
          },
          "metadata": {},
          "execution_count": 493
        }
      ]
    },
    {
      "cell_type": "markdown",
      "source": [
        "# **EDA**"
      ],
      "metadata": {
        "id": "3IUjJcdqexDD"
      }
    },
    {
      "cell_type": "markdown",
      "source": [
        "Show the top 5 records"
      ],
      "metadata": {
        "id": "oh5FEVhBe05E"
      }
    },
    {
      "cell_type": "code",
      "source": [
        "df.head(5)"
      ],
      "metadata": {
        "colab": {
          "base_uri": "https://localhost:8080/",
          "height": 206
        },
        "id": "12EyfwkyupEL",
        "outputId": "fed8fee5-abfe-48f2-d45a-deee78855b49"
      },
      "execution_count": 494,
      "outputs": [
        {
          "output_type": "execute_result",
          "data": {
            "text/plain": [
              "    pH  Temprature  Taste  Odor  Fat   Turbidity  Colour   Grade\n",
              "0  6.6          35      1     0     1          0     254    high\n",
              "1  6.6          36      0     1     0          1     253    high\n",
              "2  8.5          70      1     1     1          1     246     low\n",
              "3  9.5          34      1     1     0          1     255     low\n",
              "4  6.6          37      0     0     0          0     255  medium"
            ],
            "text/html": [
              "\n",
              "  <div id=\"df-2d760a08-0505-436d-966b-a3175d1c88a0\">\n",
              "    <div class=\"colab-df-container\">\n",
              "      <div>\n",
              "<style scoped>\n",
              "    .dataframe tbody tr th:only-of-type {\n",
              "        vertical-align: middle;\n",
              "    }\n",
              "\n",
              "    .dataframe tbody tr th {\n",
              "        vertical-align: top;\n",
              "    }\n",
              "\n",
              "    .dataframe thead th {\n",
              "        text-align: right;\n",
              "    }\n",
              "</style>\n",
              "<table border=\"1\" class=\"dataframe\">\n",
              "  <thead>\n",
              "    <tr style=\"text-align: right;\">\n",
              "      <th></th>\n",
              "      <th>pH</th>\n",
              "      <th>Temprature</th>\n",
              "      <th>Taste</th>\n",
              "      <th>Odor</th>\n",
              "      <th>Fat</th>\n",
              "      <th>Turbidity</th>\n",
              "      <th>Colour</th>\n",
              "      <th>Grade</th>\n",
              "    </tr>\n",
              "  </thead>\n",
              "  <tbody>\n",
              "    <tr>\n",
              "      <th>0</th>\n",
              "      <td>6.6</td>\n",
              "      <td>35</td>\n",
              "      <td>1</td>\n",
              "      <td>0</td>\n",
              "      <td>1</td>\n",
              "      <td>0</td>\n",
              "      <td>254</td>\n",
              "      <td>high</td>\n",
              "    </tr>\n",
              "    <tr>\n",
              "      <th>1</th>\n",
              "      <td>6.6</td>\n",
              "      <td>36</td>\n",
              "      <td>0</td>\n",
              "      <td>1</td>\n",
              "      <td>0</td>\n",
              "      <td>1</td>\n",
              "      <td>253</td>\n",
              "      <td>high</td>\n",
              "    </tr>\n",
              "    <tr>\n",
              "      <th>2</th>\n",
              "      <td>8.5</td>\n",
              "      <td>70</td>\n",
              "      <td>1</td>\n",
              "      <td>1</td>\n",
              "      <td>1</td>\n",
              "      <td>1</td>\n",
              "      <td>246</td>\n",
              "      <td>low</td>\n",
              "    </tr>\n",
              "    <tr>\n",
              "      <th>3</th>\n",
              "      <td>9.5</td>\n",
              "      <td>34</td>\n",
              "      <td>1</td>\n",
              "      <td>1</td>\n",
              "      <td>0</td>\n",
              "      <td>1</td>\n",
              "      <td>255</td>\n",
              "      <td>low</td>\n",
              "    </tr>\n",
              "    <tr>\n",
              "      <th>4</th>\n",
              "      <td>6.6</td>\n",
              "      <td>37</td>\n",
              "      <td>0</td>\n",
              "      <td>0</td>\n",
              "      <td>0</td>\n",
              "      <td>0</td>\n",
              "      <td>255</td>\n",
              "      <td>medium</td>\n",
              "    </tr>\n",
              "  </tbody>\n",
              "</table>\n",
              "</div>\n",
              "      <button class=\"colab-df-convert\" onclick=\"convertToInteractive('df-2d760a08-0505-436d-966b-a3175d1c88a0')\"\n",
              "              title=\"Convert this dataframe to an interactive table.\"\n",
              "              style=\"display:none;\">\n",
              "        \n",
              "  <svg xmlns=\"http://www.w3.org/2000/svg\" height=\"24px\"viewBox=\"0 0 24 24\"\n",
              "       width=\"24px\">\n",
              "    <path d=\"M0 0h24v24H0V0z\" fill=\"none\"/>\n",
              "    <path d=\"M18.56 5.44l.94 2.06.94-2.06 2.06-.94-2.06-.94-.94-2.06-.94 2.06-2.06.94zm-11 1L8.5 8.5l.94-2.06 2.06-.94-2.06-.94L8.5 2.5l-.94 2.06-2.06.94zm10 10l.94 2.06.94-2.06 2.06-.94-2.06-.94-.94-2.06-.94 2.06-2.06.94z\"/><path d=\"M17.41 7.96l-1.37-1.37c-.4-.4-.92-.59-1.43-.59-.52 0-1.04.2-1.43.59L10.3 9.45l-7.72 7.72c-.78.78-.78 2.05 0 2.83L4 21.41c.39.39.9.59 1.41.59.51 0 1.02-.2 1.41-.59l7.78-7.78 2.81-2.81c.8-.78.8-2.07 0-2.86zM5.41 20L4 18.59l7.72-7.72 1.47 1.35L5.41 20z\"/>\n",
              "  </svg>\n",
              "      </button>\n",
              "      \n",
              "  <style>\n",
              "    .colab-df-container {\n",
              "      display:flex;\n",
              "      flex-wrap:wrap;\n",
              "      gap: 12px;\n",
              "    }\n",
              "\n",
              "    .colab-df-convert {\n",
              "      background-color: #E8F0FE;\n",
              "      border: none;\n",
              "      border-radius: 50%;\n",
              "      cursor: pointer;\n",
              "      display: none;\n",
              "      fill: #1967D2;\n",
              "      height: 32px;\n",
              "      padding: 0 0 0 0;\n",
              "      width: 32px;\n",
              "    }\n",
              "\n",
              "    .colab-df-convert:hover {\n",
              "      background-color: #E2EBFA;\n",
              "      box-shadow: 0px 1px 2px rgba(60, 64, 67, 0.3), 0px 1px 3px 1px rgba(60, 64, 67, 0.15);\n",
              "      fill: #174EA6;\n",
              "    }\n",
              "\n",
              "    [theme=dark] .colab-df-convert {\n",
              "      background-color: #3B4455;\n",
              "      fill: #D2E3FC;\n",
              "    }\n",
              "\n",
              "    [theme=dark] .colab-df-convert:hover {\n",
              "      background-color: #434B5C;\n",
              "      box-shadow: 0px 1px 3px 1px rgba(0, 0, 0, 0.15);\n",
              "      filter: drop-shadow(0px 1px 2px rgba(0, 0, 0, 0.3));\n",
              "      fill: #FFFFFF;\n",
              "    }\n",
              "  </style>\n",
              "\n",
              "      <script>\n",
              "        const buttonEl =\n",
              "          document.querySelector('#df-2d760a08-0505-436d-966b-a3175d1c88a0 button.colab-df-convert');\n",
              "        buttonEl.style.display =\n",
              "          google.colab.kernel.accessAllowed ? 'block' : 'none';\n",
              "\n",
              "        async function convertToInteractive(key) {\n",
              "          const element = document.querySelector('#df-2d760a08-0505-436d-966b-a3175d1c88a0');\n",
              "          const dataTable =\n",
              "            await google.colab.kernel.invokeFunction('convertToInteractive',\n",
              "                                                     [key], {});\n",
              "          if (!dataTable) return;\n",
              "\n",
              "          const docLinkHtml = 'Like what you see? Visit the ' +\n",
              "            '<a target=\"_blank\" href=https://colab.research.google.com/notebooks/data_table.ipynb>data table notebook</a>'\n",
              "            + ' to learn more about interactive tables.';\n",
              "          element.innerHTML = '';\n",
              "          dataTable['output_type'] = 'display_data';\n",
              "          await google.colab.output.renderOutput(dataTable, element);\n",
              "          const docLink = document.createElement('div');\n",
              "          docLink.innerHTML = docLinkHtml;\n",
              "          element.appendChild(docLink);\n",
              "        }\n",
              "      </script>\n",
              "    </div>\n",
              "  </div>\n",
              "  "
            ]
          },
          "metadata": {},
          "execution_count": 494
        }
      ]
    },
    {
      "cell_type": "markdown",
      "source": [
        "Show the last 5 records"
      ],
      "metadata": {
        "id": "A2WA2a4Ze6IT"
      }
    },
    {
      "cell_type": "code",
      "source": [
        "df.tail(5)"
      ],
      "metadata": {
        "colab": {
          "base_uri": "https://localhost:8080/",
          "height": 206
        },
        "id": "u4JHTITIu1mE",
        "outputId": "6946eca9-f3d9-4870-feb8-b02d7b7a80f5"
      },
      "execution_count": 495,
      "outputs": [
        {
          "output_type": "execute_result",
          "data": {
            "text/plain": [
              "       pH  Temprature  Taste  Odor  Fat   Turbidity  Colour   Grade\n",
              "1054  6.7          45      1     1     0          0     247  medium\n",
              "1055  6.7          38      1     0     1          0     255    high\n",
              "1056  3.0          40      1     1     1          1     255     low\n",
              "1057  6.8          43      1     0     1          0     250    high\n",
              "1058  8.6          55      0     1     1          1     255     low"
            ],
            "text/html": [
              "\n",
              "  <div id=\"df-46959562-6ba1-4241-af57-5d78662bdb16\">\n",
              "    <div class=\"colab-df-container\">\n",
              "      <div>\n",
              "<style scoped>\n",
              "    .dataframe tbody tr th:only-of-type {\n",
              "        vertical-align: middle;\n",
              "    }\n",
              "\n",
              "    .dataframe tbody tr th {\n",
              "        vertical-align: top;\n",
              "    }\n",
              "\n",
              "    .dataframe thead th {\n",
              "        text-align: right;\n",
              "    }\n",
              "</style>\n",
              "<table border=\"1\" class=\"dataframe\">\n",
              "  <thead>\n",
              "    <tr style=\"text-align: right;\">\n",
              "      <th></th>\n",
              "      <th>pH</th>\n",
              "      <th>Temprature</th>\n",
              "      <th>Taste</th>\n",
              "      <th>Odor</th>\n",
              "      <th>Fat</th>\n",
              "      <th>Turbidity</th>\n",
              "      <th>Colour</th>\n",
              "      <th>Grade</th>\n",
              "    </tr>\n",
              "  </thead>\n",
              "  <tbody>\n",
              "    <tr>\n",
              "      <th>1054</th>\n",
              "      <td>6.7</td>\n",
              "      <td>45</td>\n",
              "      <td>1</td>\n",
              "      <td>1</td>\n",
              "      <td>0</td>\n",
              "      <td>0</td>\n",
              "      <td>247</td>\n",
              "      <td>medium</td>\n",
              "    </tr>\n",
              "    <tr>\n",
              "      <th>1055</th>\n",
              "      <td>6.7</td>\n",
              "      <td>38</td>\n",
              "      <td>1</td>\n",
              "      <td>0</td>\n",
              "      <td>1</td>\n",
              "      <td>0</td>\n",
              "      <td>255</td>\n",
              "      <td>high</td>\n",
              "    </tr>\n",
              "    <tr>\n",
              "      <th>1056</th>\n",
              "      <td>3.0</td>\n",
              "      <td>40</td>\n",
              "      <td>1</td>\n",
              "      <td>1</td>\n",
              "      <td>1</td>\n",
              "      <td>1</td>\n",
              "      <td>255</td>\n",
              "      <td>low</td>\n",
              "    </tr>\n",
              "    <tr>\n",
              "      <th>1057</th>\n",
              "      <td>6.8</td>\n",
              "      <td>43</td>\n",
              "      <td>1</td>\n",
              "      <td>0</td>\n",
              "      <td>1</td>\n",
              "      <td>0</td>\n",
              "      <td>250</td>\n",
              "      <td>high</td>\n",
              "    </tr>\n",
              "    <tr>\n",
              "      <th>1058</th>\n",
              "      <td>8.6</td>\n",
              "      <td>55</td>\n",
              "      <td>0</td>\n",
              "      <td>1</td>\n",
              "      <td>1</td>\n",
              "      <td>1</td>\n",
              "      <td>255</td>\n",
              "      <td>low</td>\n",
              "    </tr>\n",
              "  </tbody>\n",
              "</table>\n",
              "</div>\n",
              "      <button class=\"colab-df-convert\" onclick=\"convertToInteractive('df-46959562-6ba1-4241-af57-5d78662bdb16')\"\n",
              "              title=\"Convert this dataframe to an interactive table.\"\n",
              "              style=\"display:none;\">\n",
              "        \n",
              "  <svg xmlns=\"http://www.w3.org/2000/svg\" height=\"24px\"viewBox=\"0 0 24 24\"\n",
              "       width=\"24px\">\n",
              "    <path d=\"M0 0h24v24H0V0z\" fill=\"none\"/>\n",
              "    <path d=\"M18.56 5.44l.94 2.06.94-2.06 2.06-.94-2.06-.94-.94-2.06-.94 2.06-2.06.94zm-11 1L8.5 8.5l.94-2.06 2.06-.94-2.06-.94L8.5 2.5l-.94 2.06-2.06.94zm10 10l.94 2.06.94-2.06 2.06-.94-2.06-.94-.94-2.06-.94 2.06-2.06.94z\"/><path d=\"M17.41 7.96l-1.37-1.37c-.4-.4-.92-.59-1.43-.59-.52 0-1.04.2-1.43.59L10.3 9.45l-7.72 7.72c-.78.78-.78 2.05 0 2.83L4 21.41c.39.39.9.59 1.41.59.51 0 1.02-.2 1.41-.59l7.78-7.78 2.81-2.81c.8-.78.8-2.07 0-2.86zM5.41 20L4 18.59l7.72-7.72 1.47 1.35L5.41 20z\"/>\n",
              "  </svg>\n",
              "      </button>\n",
              "      \n",
              "  <style>\n",
              "    .colab-df-container {\n",
              "      display:flex;\n",
              "      flex-wrap:wrap;\n",
              "      gap: 12px;\n",
              "    }\n",
              "\n",
              "    .colab-df-convert {\n",
              "      background-color: #E8F0FE;\n",
              "      border: none;\n",
              "      border-radius: 50%;\n",
              "      cursor: pointer;\n",
              "      display: none;\n",
              "      fill: #1967D2;\n",
              "      height: 32px;\n",
              "      padding: 0 0 0 0;\n",
              "      width: 32px;\n",
              "    }\n",
              "\n",
              "    .colab-df-convert:hover {\n",
              "      background-color: #E2EBFA;\n",
              "      box-shadow: 0px 1px 2px rgba(60, 64, 67, 0.3), 0px 1px 3px 1px rgba(60, 64, 67, 0.15);\n",
              "      fill: #174EA6;\n",
              "    }\n",
              "\n",
              "    [theme=dark] .colab-df-convert {\n",
              "      background-color: #3B4455;\n",
              "      fill: #D2E3FC;\n",
              "    }\n",
              "\n",
              "    [theme=dark] .colab-df-convert:hover {\n",
              "      background-color: #434B5C;\n",
              "      box-shadow: 0px 1px 3px 1px rgba(0, 0, 0, 0.15);\n",
              "      filter: drop-shadow(0px 1px 2px rgba(0, 0, 0, 0.3));\n",
              "      fill: #FFFFFF;\n",
              "    }\n",
              "  </style>\n",
              "\n",
              "      <script>\n",
              "        const buttonEl =\n",
              "          document.querySelector('#df-46959562-6ba1-4241-af57-5d78662bdb16 button.colab-df-convert');\n",
              "        buttonEl.style.display =\n",
              "          google.colab.kernel.accessAllowed ? 'block' : 'none';\n",
              "\n",
              "        async function convertToInteractive(key) {\n",
              "          const element = document.querySelector('#df-46959562-6ba1-4241-af57-5d78662bdb16');\n",
              "          const dataTable =\n",
              "            await google.colab.kernel.invokeFunction('convertToInteractive',\n",
              "                                                     [key], {});\n",
              "          if (!dataTable) return;\n",
              "\n",
              "          const docLinkHtml = 'Like what you see? Visit the ' +\n",
              "            '<a target=\"_blank\" href=https://colab.research.google.com/notebooks/data_table.ipynb>data table notebook</a>'\n",
              "            + ' to learn more about interactive tables.';\n",
              "          element.innerHTML = '';\n",
              "          dataTable['output_type'] = 'display_data';\n",
              "          await google.colab.output.renderOutput(dataTable, element);\n",
              "          const docLink = document.createElement('div');\n",
              "          docLink.innerHTML = docLinkHtml;\n",
              "          element.appendChild(docLink);\n",
              "        }\n",
              "      </script>\n",
              "    </div>\n",
              "  </div>\n",
              "  "
            ]
          },
          "metadata": {},
          "execution_count": 495
        }
      ]
    },
    {
      "cell_type": "code",
      "source": [
        "df.keys()"
      ],
      "metadata": {
        "colab": {
          "base_uri": "https://localhost:8080/"
        },
        "id": "NjwYDjs9z3Hm",
        "outputId": "5de65476-9da8-4008-c7c4-0373fa51eb09"
      },
      "execution_count": 496,
      "outputs": [
        {
          "output_type": "execute_result",
          "data": {
            "text/plain": [
              "Index(['pH', 'Temprature', 'Taste', 'Odor', 'Fat ', 'Turbidity', 'Colour',\n",
              "       'Grade'],\n",
              "      dtype='object')"
            ]
          },
          "metadata": {},
          "execution_count": 496
        }
      ]
    },
    {
      "cell_type": "markdown",
      "source": [
        "Summary of Datset"
      ],
      "metadata": {
        "id": "b2QbJ2W1fHUo"
      }
    },
    {
      "cell_type": "code",
      "source": [
        "df.info()"
      ],
      "metadata": {
        "colab": {
          "base_uri": "https://localhost:8080/"
        },
        "id": "4CXOTXOMu5Qh",
        "outputId": "06742053-9823-44f0-80c8-285caf96258c"
      },
      "execution_count": 497,
      "outputs": [
        {
          "output_type": "stream",
          "name": "stdout",
          "text": [
            "<class 'pandas.core.frame.DataFrame'>\n",
            "RangeIndex: 1059 entries, 0 to 1058\n",
            "Data columns (total 8 columns):\n",
            " #   Column      Non-Null Count  Dtype  \n",
            "---  ------      --------------  -----  \n",
            " 0   pH          1059 non-null   float64\n",
            " 1   Temprature  1059 non-null   int64  \n",
            " 2   Taste       1059 non-null   int64  \n",
            " 3   Odor        1059 non-null   int64  \n",
            " 4   Fat         1059 non-null   int64  \n",
            " 5   Turbidity   1059 non-null   int64  \n",
            " 6   Colour      1059 non-null   int64  \n",
            " 7   Grade       1059 non-null   object \n",
            "dtypes: float64(1), int64(6), object(1)\n",
            "memory usage: 66.3+ KB\n"
          ]
        }
      ]
    },
    {
      "cell_type": "markdown",
      "source": [
        "Descriptive summary of Dataset"
      ],
      "metadata": {
        "id": "48SlRLycfL0e"
      }
    },
    {
      "cell_type": "code",
      "source": [
        "df.describe()"
      ],
      "metadata": {
        "colab": {
          "base_uri": "https://localhost:8080/",
          "height": 300
        },
        "id": "uTMYQbsUu9zS",
        "outputId": "08016a89-7eeb-44dc-c9df-59e6c283e27c"
      },
      "execution_count": 498,
      "outputs": [
        {
          "output_type": "execute_result",
          "data": {
            "text/plain": [
              "                pH   Temprature        Taste         Odor         Fat   \\\n",
              "count  1059.000000  1059.000000  1059.000000  1059.000000  1059.000000   \n",
              "mean      6.630123    44.226629     0.546742     0.432483     0.671388   \n",
              "std       1.399679    10.098364     0.498046     0.495655     0.469930   \n",
              "min       3.000000    34.000000     0.000000     0.000000     0.000000   \n",
              "25%       6.500000    38.000000     0.000000     0.000000     0.000000   \n",
              "50%       6.700000    41.000000     1.000000     0.000000     1.000000   \n",
              "75%       6.800000    45.000000     1.000000     1.000000     1.000000   \n",
              "max       9.500000    90.000000     1.000000     1.000000     1.000000   \n",
              "\n",
              "         Turbidity       Colour  \n",
              "count  1059.000000  1059.000000  \n",
              "mean      0.491029   251.840415  \n",
              "std       0.500156     4.307424  \n",
              "min       0.000000   240.000000  \n",
              "25%       0.000000   250.000000  \n",
              "50%       0.000000   255.000000  \n",
              "75%       1.000000   255.000000  \n",
              "max       1.000000   255.000000  "
            ],
            "text/html": [
              "\n",
              "  <div id=\"df-e5c42f8d-10a4-4d28-81c7-cbbc756e73af\">\n",
              "    <div class=\"colab-df-container\">\n",
              "      <div>\n",
              "<style scoped>\n",
              "    .dataframe tbody tr th:only-of-type {\n",
              "        vertical-align: middle;\n",
              "    }\n",
              "\n",
              "    .dataframe tbody tr th {\n",
              "        vertical-align: top;\n",
              "    }\n",
              "\n",
              "    .dataframe thead th {\n",
              "        text-align: right;\n",
              "    }\n",
              "</style>\n",
              "<table border=\"1\" class=\"dataframe\">\n",
              "  <thead>\n",
              "    <tr style=\"text-align: right;\">\n",
              "      <th></th>\n",
              "      <th>pH</th>\n",
              "      <th>Temprature</th>\n",
              "      <th>Taste</th>\n",
              "      <th>Odor</th>\n",
              "      <th>Fat</th>\n",
              "      <th>Turbidity</th>\n",
              "      <th>Colour</th>\n",
              "    </tr>\n",
              "  </thead>\n",
              "  <tbody>\n",
              "    <tr>\n",
              "      <th>count</th>\n",
              "      <td>1059.000000</td>\n",
              "      <td>1059.000000</td>\n",
              "      <td>1059.000000</td>\n",
              "      <td>1059.000000</td>\n",
              "      <td>1059.000000</td>\n",
              "      <td>1059.000000</td>\n",
              "      <td>1059.000000</td>\n",
              "    </tr>\n",
              "    <tr>\n",
              "      <th>mean</th>\n",
              "      <td>6.630123</td>\n",
              "      <td>44.226629</td>\n",
              "      <td>0.546742</td>\n",
              "      <td>0.432483</td>\n",
              "      <td>0.671388</td>\n",
              "      <td>0.491029</td>\n",
              "      <td>251.840415</td>\n",
              "    </tr>\n",
              "    <tr>\n",
              "      <th>std</th>\n",
              "      <td>1.399679</td>\n",
              "      <td>10.098364</td>\n",
              "      <td>0.498046</td>\n",
              "      <td>0.495655</td>\n",
              "      <td>0.469930</td>\n",
              "      <td>0.500156</td>\n",
              "      <td>4.307424</td>\n",
              "    </tr>\n",
              "    <tr>\n",
              "      <th>min</th>\n",
              "      <td>3.000000</td>\n",
              "      <td>34.000000</td>\n",
              "      <td>0.000000</td>\n",
              "      <td>0.000000</td>\n",
              "      <td>0.000000</td>\n",
              "      <td>0.000000</td>\n",
              "      <td>240.000000</td>\n",
              "    </tr>\n",
              "    <tr>\n",
              "      <th>25%</th>\n",
              "      <td>6.500000</td>\n",
              "      <td>38.000000</td>\n",
              "      <td>0.000000</td>\n",
              "      <td>0.000000</td>\n",
              "      <td>0.000000</td>\n",
              "      <td>0.000000</td>\n",
              "      <td>250.000000</td>\n",
              "    </tr>\n",
              "    <tr>\n",
              "      <th>50%</th>\n",
              "      <td>6.700000</td>\n",
              "      <td>41.000000</td>\n",
              "      <td>1.000000</td>\n",
              "      <td>0.000000</td>\n",
              "      <td>1.000000</td>\n",
              "      <td>0.000000</td>\n",
              "      <td>255.000000</td>\n",
              "    </tr>\n",
              "    <tr>\n",
              "      <th>75%</th>\n",
              "      <td>6.800000</td>\n",
              "      <td>45.000000</td>\n",
              "      <td>1.000000</td>\n",
              "      <td>1.000000</td>\n",
              "      <td>1.000000</td>\n",
              "      <td>1.000000</td>\n",
              "      <td>255.000000</td>\n",
              "    </tr>\n",
              "    <tr>\n",
              "      <th>max</th>\n",
              "      <td>9.500000</td>\n",
              "      <td>90.000000</td>\n",
              "      <td>1.000000</td>\n",
              "      <td>1.000000</td>\n",
              "      <td>1.000000</td>\n",
              "      <td>1.000000</td>\n",
              "      <td>255.000000</td>\n",
              "    </tr>\n",
              "  </tbody>\n",
              "</table>\n",
              "</div>\n",
              "      <button class=\"colab-df-convert\" onclick=\"convertToInteractive('df-e5c42f8d-10a4-4d28-81c7-cbbc756e73af')\"\n",
              "              title=\"Convert this dataframe to an interactive table.\"\n",
              "              style=\"display:none;\">\n",
              "        \n",
              "  <svg xmlns=\"http://www.w3.org/2000/svg\" height=\"24px\"viewBox=\"0 0 24 24\"\n",
              "       width=\"24px\">\n",
              "    <path d=\"M0 0h24v24H0V0z\" fill=\"none\"/>\n",
              "    <path d=\"M18.56 5.44l.94 2.06.94-2.06 2.06-.94-2.06-.94-.94-2.06-.94 2.06-2.06.94zm-11 1L8.5 8.5l.94-2.06 2.06-.94-2.06-.94L8.5 2.5l-.94 2.06-2.06.94zm10 10l.94 2.06.94-2.06 2.06-.94-2.06-.94-.94-2.06-.94 2.06-2.06.94z\"/><path d=\"M17.41 7.96l-1.37-1.37c-.4-.4-.92-.59-1.43-.59-.52 0-1.04.2-1.43.59L10.3 9.45l-7.72 7.72c-.78.78-.78 2.05 0 2.83L4 21.41c.39.39.9.59 1.41.59.51 0 1.02-.2 1.41-.59l7.78-7.78 2.81-2.81c.8-.78.8-2.07 0-2.86zM5.41 20L4 18.59l7.72-7.72 1.47 1.35L5.41 20z\"/>\n",
              "  </svg>\n",
              "      </button>\n",
              "      \n",
              "  <style>\n",
              "    .colab-df-container {\n",
              "      display:flex;\n",
              "      flex-wrap:wrap;\n",
              "      gap: 12px;\n",
              "    }\n",
              "\n",
              "    .colab-df-convert {\n",
              "      background-color: #E8F0FE;\n",
              "      border: none;\n",
              "      border-radius: 50%;\n",
              "      cursor: pointer;\n",
              "      display: none;\n",
              "      fill: #1967D2;\n",
              "      height: 32px;\n",
              "      padding: 0 0 0 0;\n",
              "      width: 32px;\n",
              "    }\n",
              "\n",
              "    .colab-df-convert:hover {\n",
              "      background-color: #E2EBFA;\n",
              "      box-shadow: 0px 1px 2px rgba(60, 64, 67, 0.3), 0px 1px 3px 1px rgba(60, 64, 67, 0.15);\n",
              "      fill: #174EA6;\n",
              "    }\n",
              "\n",
              "    [theme=dark] .colab-df-convert {\n",
              "      background-color: #3B4455;\n",
              "      fill: #D2E3FC;\n",
              "    }\n",
              "\n",
              "    [theme=dark] .colab-df-convert:hover {\n",
              "      background-color: #434B5C;\n",
              "      box-shadow: 0px 1px 3px 1px rgba(0, 0, 0, 0.15);\n",
              "      filter: drop-shadow(0px 1px 2px rgba(0, 0, 0, 0.3));\n",
              "      fill: #FFFFFF;\n",
              "    }\n",
              "  </style>\n",
              "\n",
              "      <script>\n",
              "        const buttonEl =\n",
              "          document.querySelector('#df-e5c42f8d-10a4-4d28-81c7-cbbc756e73af button.colab-df-convert');\n",
              "        buttonEl.style.display =\n",
              "          google.colab.kernel.accessAllowed ? 'block' : 'none';\n",
              "\n",
              "        async function convertToInteractive(key) {\n",
              "          const element = document.querySelector('#df-e5c42f8d-10a4-4d28-81c7-cbbc756e73af');\n",
              "          const dataTable =\n",
              "            await google.colab.kernel.invokeFunction('convertToInteractive',\n",
              "                                                     [key], {});\n",
              "          if (!dataTable) return;\n",
              "\n",
              "          const docLinkHtml = 'Like what you see? Visit the ' +\n",
              "            '<a target=\"_blank\" href=https://colab.research.google.com/notebooks/data_table.ipynb>data table notebook</a>'\n",
              "            + ' to learn more about interactive tables.';\n",
              "          element.innerHTML = '';\n",
              "          dataTable['output_type'] = 'display_data';\n",
              "          await google.colab.output.renderOutput(dataTable, element);\n",
              "          const docLink = document.createElement('div');\n",
              "          docLink.innerHTML = docLinkHtml;\n",
              "          element.appendChild(docLink);\n",
              "        }\n",
              "      </script>\n",
              "    </div>\n",
              "  </div>\n",
              "  "
            ]
          },
          "metadata": {},
          "execution_count": 498
        }
      ]
    },
    {
      "cell_type": "markdown",
      "source": [
        "Shape of the Dataset"
      ],
      "metadata": {
        "id": "07VsOwZCfS8q"
      }
    },
    {
      "cell_type": "code",
      "source": [
        "df.shape"
      ],
      "metadata": {
        "colab": {
          "base_uri": "https://localhost:8080/"
        },
        "id": "RyVSSBdCvNbU",
        "outputId": "a24441dc-2cb1-4e82-88ae-364831c65043"
      },
      "execution_count": 499,
      "outputs": [
        {
          "output_type": "execute_result",
          "data": {
            "text/plain": [
              "(1059, 8)"
            ]
          },
          "metadata": {},
          "execution_count": 499
        }
      ]
    },
    {
      "cell_type": "markdown",
      "source": [
        "Check the columns"
      ],
      "metadata": {
        "id": "VHTws2dyfVLL"
      }
    },
    {
      "cell_type": "code",
      "source": [
        "df.columns"
      ],
      "metadata": {
        "colab": {
          "base_uri": "https://localhost:8080/"
        },
        "id": "MKjfhN_lvRYo",
        "outputId": "6d3f095a-452e-4bf8-e024-d6126cfe6f38"
      },
      "execution_count": 500,
      "outputs": [
        {
          "output_type": "execute_result",
          "data": {
            "text/plain": [
              "Index(['pH', 'Temprature', 'Taste', 'Odor', 'Fat ', 'Turbidity', 'Colour',\n",
              "       'Grade'],\n",
              "      dtype='object')"
            ]
          },
          "metadata": {},
          "execution_count": 500
        }
      ]
    },
    {
      "cell_type": "markdown",
      "source": [
        "Data types "
      ],
      "metadata": {
        "id": "Gk5-03sAfhux"
      }
    },
    {
      "cell_type": "code",
      "source": [
        "df.dtypes"
      ],
      "metadata": {
        "colab": {
          "base_uri": "https://localhost:8080/"
        },
        "id": "qkWWitidvV8j",
        "outputId": "7201c846-705d-4b2a-8125-2ee105fc78a7"
      },
      "execution_count": 501,
      "outputs": [
        {
          "output_type": "execute_result",
          "data": {
            "text/plain": [
              "pH            float64\n",
              "Temprature      int64\n",
              "Taste           int64\n",
              "Odor            int64\n",
              "Fat             int64\n",
              "Turbidity       int64\n",
              "Colour          int64\n",
              "Grade          object\n",
              "dtype: object"
            ]
          },
          "metadata": {},
          "execution_count": 501
        }
      ]
    },
    {
      "cell_type": "markdown",
      "source": [
        "Checking Missing values"
      ],
      "metadata": {
        "id": "H-KNDcrcffIp"
      }
    },
    {
      "cell_type": "code",
      "source": [
        "df.isna().sum()"
      ],
      "metadata": {
        "colab": {
          "base_uri": "https://localhost:8080/"
        },
        "id": "QDNwgrvivjQg",
        "outputId": "faee1682-b733-49c8-df51-515897762879"
      },
      "execution_count": 502,
      "outputs": [
        {
          "output_type": "execute_result",
          "data": {
            "text/plain": [
              "pH            0\n",
              "Temprature    0\n",
              "Taste         0\n",
              "Odor          0\n",
              "Fat           0\n",
              "Turbidity     0\n",
              "Colour        0\n",
              "Grade         0\n",
              "dtype: int64"
            ]
          },
          "metadata": {},
          "execution_count": 502
        }
      ]
    },
    {
      "cell_type": "markdown",
      "source": [
        "There are no null values so we do not need to handle it."
      ],
      "metadata": {
        "id": "nH810trs55gl"
      }
    },
    {
      "cell_type": "markdown",
      "source": [
        "Unique values"
      ],
      "metadata": {
        "id": "sZ-haO67fkNT"
      }
    },
    {
      "cell_type": "code",
      "source": [
        "df['Grade'].unique()"
      ],
      "metadata": {
        "colab": {
          "base_uri": "https://localhost:8080/"
        },
        "id": "tnkr9cyewXyR",
        "outputId": "ffa063c4-471d-4ccf-fbbf-7e6dd2db27c4"
      },
      "execution_count": 503,
      "outputs": [
        {
          "output_type": "execute_result",
          "data": {
            "text/plain": [
              "array(['high', 'low', 'medium'], dtype=object)"
            ]
          },
          "metadata": {},
          "execution_count": 503
        }
      ]
    },
    {
      "cell_type": "markdown",
      "source": [
        "Check the counts of different values"
      ],
      "metadata": {
        "id": "8ci1w6zTftQU"
      }
    },
    {
      "cell_type": "code",
      "source": [
        "df['Grade'].value_counts()"
      ],
      "metadata": {
        "colab": {
          "base_uri": "https://localhost:8080/"
        },
        "id": "k6k92LQn0D87",
        "outputId": "ac35b5f4-eae0-4326-adba-aed76739c4df"
      },
      "execution_count": 504,
      "outputs": [
        {
          "output_type": "execute_result",
          "data": {
            "text/plain": [
              "low       429\n",
              "medium    374\n",
              "high      256\n",
              "Name: Grade, dtype: int64"
            ]
          },
          "metadata": {},
          "execution_count": 504
        }
      ]
    },
    {
      "cell_type": "markdown",
      "source": [
        "To check duplicate value"
      ],
      "metadata": {
        "id": "Rclzy-WRgKye"
      }
    },
    {
      "cell_type": "code",
      "source": [
        "df[df.duplicated()]"
      ],
      "metadata": {
        "colab": {
          "base_uri": "https://localhost:8080/",
          "height": 424
        },
        "id": "W5iYfZEif_vU",
        "outputId": "227cda05-10a6-46c4-a1ba-8ffb0df405cb"
      },
      "execution_count": 505,
      "outputs": [
        {
          "output_type": "execute_result",
          "data": {
            "text/plain": [
              "       pH  Temprature  Taste  Odor  Fat   Turbidity  Colour   Grade\n",
              "35    6.8          45      0     1     1          1     255    high\n",
              "48    9.5          34      1     1     0          1     255     low\n",
              "50    6.6          37      1     1     1          1     255    high\n",
              "51    5.5          45      1     0     1          1     250     low\n",
              "52    4.5          60      0     1     1          1     250     low\n",
              "...   ...         ...    ...   ...   ...        ...     ...     ...\n",
              "1054  6.7          45      1     1     0          0     247  medium\n",
              "1055  6.7          38      1     0     1          0     255    high\n",
              "1056  3.0          40      1     1     1          1     255     low\n",
              "1057  6.8          43      1     0     1          0     250    high\n",
              "1058  8.6          55      0     1     1          1     255     low\n",
              "\n",
              "[976 rows x 8 columns]"
            ],
            "text/html": [
              "\n",
              "  <div id=\"df-065a8cfe-1318-4aad-a930-47e920c9bea1\">\n",
              "    <div class=\"colab-df-container\">\n",
              "      <div>\n",
              "<style scoped>\n",
              "    .dataframe tbody tr th:only-of-type {\n",
              "        vertical-align: middle;\n",
              "    }\n",
              "\n",
              "    .dataframe tbody tr th {\n",
              "        vertical-align: top;\n",
              "    }\n",
              "\n",
              "    .dataframe thead th {\n",
              "        text-align: right;\n",
              "    }\n",
              "</style>\n",
              "<table border=\"1\" class=\"dataframe\">\n",
              "  <thead>\n",
              "    <tr style=\"text-align: right;\">\n",
              "      <th></th>\n",
              "      <th>pH</th>\n",
              "      <th>Temprature</th>\n",
              "      <th>Taste</th>\n",
              "      <th>Odor</th>\n",
              "      <th>Fat</th>\n",
              "      <th>Turbidity</th>\n",
              "      <th>Colour</th>\n",
              "      <th>Grade</th>\n",
              "    </tr>\n",
              "  </thead>\n",
              "  <tbody>\n",
              "    <tr>\n",
              "      <th>35</th>\n",
              "      <td>6.8</td>\n",
              "      <td>45</td>\n",
              "      <td>0</td>\n",
              "      <td>1</td>\n",
              "      <td>1</td>\n",
              "      <td>1</td>\n",
              "      <td>255</td>\n",
              "      <td>high</td>\n",
              "    </tr>\n",
              "    <tr>\n",
              "      <th>48</th>\n",
              "      <td>9.5</td>\n",
              "      <td>34</td>\n",
              "      <td>1</td>\n",
              "      <td>1</td>\n",
              "      <td>0</td>\n",
              "      <td>1</td>\n",
              "      <td>255</td>\n",
              "      <td>low</td>\n",
              "    </tr>\n",
              "    <tr>\n",
              "      <th>50</th>\n",
              "      <td>6.6</td>\n",
              "      <td>37</td>\n",
              "      <td>1</td>\n",
              "      <td>1</td>\n",
              "      <td>1</td>\n",
              "      <td>1</td>\n",
              "      <td>255</td>\n",
              "      <td>high</td>\n",
              "    </tr>\n",
              "    <tr>\n",
              "      <th>51</th>\n",
              "      <td>5.5</td>\n",
              "      <td>45</td>\n",
              "      <td>1</td>\n",
              "      <td>0</td>\n",
              "      <td>1</td>\n",
              "      <td>1</td>\n",
              "      <td>250</td>\n",
              "      <td>low</td>\n",
              "    </tr>\n",
              "    <tr>\n",
              "      <th>52</th>\n",
              "      <td>4.5</td>\n",
              "      <td>60</td>\n",
              "      <td>0</td>\n",
              "      <td>1</td>\n",
              "      <td>1</td>\n",
              "      <td>1</td>\n",
              "      <td>250</td>\n",
              "      <td>low</td>\n",
              "    </tr>\n",
              "    <tr>\n",
              "      <th>...</th>\n",
              "      <td>...</td>\n",
              "      <td>...</td>\n",
              "      <td>...</td>\n",
              "      <td>...</td>\n",
              "      <td>...</td>\n",
              "      <td>...</td>\n",
              "      <td>...</td>\n",
              "      <td>...</td>\n",
              "    </tr>\n",
              "    <tr>\n",
              "      <th>1054</th>\n",
              "      <td>6.7</td>\n",
              "      <td>45</td>\n",
              "      <td>1</td>\n",
              "      <td>1</td>\n",
              "      <td>0</td>\n",
              "      <td>0</td>\n",
              "      <td>247</td>\n",
              "      <td>medium</td>\n",
              "    </tr>\n",
              "    <tr>\n",
              "      <th>1055</th>\n",
              "      <td>6.7</td>\n",
              "      <td>38</td>\n",
              "      <td>1</td>\n",
              "      <td>0</td>\n",
              "      <td>1</td>\n",
              "      <td>0</td>\n",
              "      <td>255</td>\n",
              "      <td>high</td>\n",
              "    </tr>\n",
              "    <tr>\n",
              "      <th>1056</th>\n",
              "      <td>3.0</td>\n",
              "      <td>40</td>\n",
              "      <td>1</td>\n",
              "      <td>1</td>\n",
              "      <td>1</td>\n",
              "      <td>1</td>\n",
              "      <td>255</td>\n",
              "      <td>low</td>\n",
              "    </tr>\n",
              "    <tr>\n",
              "      <th>1057</th>\n",
              "      <td>6.8</td>\n",
              "      <td>43</td>\n",
              "      <td>1</td>\n",
              "      <td>0</td>\n",
              "      <td>1</td>\n",
              "      <td>0</td>\n",
              "      <td>250</td>\n",
              "      <td>high</td>\n",
              "    </tr>\n",
              "    <tr>\n",
              "      <th>1058</th>\n",
              "      <td>8.6</td>\n",
              "      <td>55</td>\n",
              "      <td>0</td>\n",
              "      <td>1</td>\n",
              "      <td>1</td>\n",
              "      <td>1</td>\n",
              "      <td>255</td>\n",
              "      <td>low</td>\n",
              "    </tr>\n",
              "  </tbody>\n",
              "</table>\n",
              "<p>976 rows × 8 columns</p>\n",
              "</div>\n",
              "      <button class=\"colab-df-convert\" onclick=\"convertToInteractive('df-065a8cfe-1318-4aad-a930-47e920c9bea1')\"\n",
              "              title=\"Convert this dataframe to an interactive table.\"\n",
              "              style=\"display:none;\">\n",
              "        \n",
              "  <svg xmlns=\"http://www.w3.org/2000/svg\" height=\"24px\"viewBox=\"0 0 24 24\"\n",
              "       width=\"24px\">\n",
              "    <path d=\"M0 0h24v24H0V0z\" fill=\"none\"/>\n",
              "    <path d=\"M18.56 5.44l.94 2.06.94-2.06 2.06-.94-2.06-.94-.94-2.06-.94 2.06-2.06.94zm-11 1L8.5 8.5l.94-2.06 2.06-.94-2.06-.94L8.5 2.5l-.94 2.06-2.06.94zm10 10l.94 2.06.94-2.06 2.06-.94-2.06-.94-.94-2.06-.94 2.06-2.06.94z\"/><path d=\"M17.41 7.96l-1.37-1.37c-.4-.4-.92-.59-1.43-.59-.52 0-1.04.2-1.43.59L10.3 9.45l-7.72 7.72c-.78.78-.78 2.05 0 2.83L4 21.41c.39.39.9.59 1.41.59.51 0 1.02-.2 1.41-.59l7.78-7.78 2.81-2.81c.8-.78.8-2.07 0-2.86zM5.41 20L4 18.59l7.72-7.72 1.47 1.35L5.41 20z\"/>\n",
              "  </svg>\n",
              "      </button>\n",
              "      \n",
              "  <style>\n",
              "    .colab-df-container {\n",
              "      display:flex;\n",
              "      flex-wrap:wrap;\n",
              "      gap: 12px;\n",
              "    }\n",
              "\n",
              "    .colab-df-convert {\n",
              "      background-color: #E8F0FE;\n",
              "      border: none;\n",
              "      border-radius: 50%;\n",
              "      cursor: pointer;\n",
              "      display: none;\n",
              "      fill: #1967D2;\n",
              "      height: 32px;\n",
              "      padding: 0 0 0 0;\n",
              "      width: 32px;\n",
              "    }\n",
              "\n",
              "    .colab-df-convert:hover {\n",
              "      background-color: #E2EBFA;\n",
              "      box-shadow: 0px 1px 2px rgba(60, 64, 67, 0.3), 0px 1px 3px 1px rgba(60, 64, 67, 0.15);\n",
              "      fill: #174EA6;\n",
              "    }\n",
              "\n",
              "    [theme=dark] .colab-df-convert {\n",
              "      background-color: #3B4455;\n",
              "      fill: #D2E3FC;\n",
              "    }\n",
              "\n",
              "    [theme=dark] .colab-df-convert:hover {\n",
              "      background-color: #434B5C;\n",
              "      box-shadow: 0px 1px 3px 1px rgba(0, 0, 0, 0.15);\n",
              "      filter: drop-shadow(0px 1px 2px rgba(0, 0, 0, 0.3));\n",
              "      fill: #FFFFFF;\n",
              "    }\n",
              "  </style>\n",
              "\n",
              "      <script>\n",
              "        const buttonEl =\n",
              "          document.querySelector('#df-065a8cfe-1318-4aad-a930-47e920c9bea1 button.colab-df-convert');\n",
              "        buttonEl.style.display =\n",
              "          google.colab.kernel.accessAllowed ? 'block' : 'none';\n",
              "\n",
              "        async function convertToInteractive(key) {\n",
              "          const element = document.querySelector('#df-065a8cfe-1318-4aad-a930-47e920c9bea1');\n",
              "          const dataTable =\n",
              "            await google.colab.kernel.invokeFunction('convertToInteractive',\n",
              "                                                     [key], {});\n",
              "          if (!dataTable) return;\n",
              "\n",
              "          const docLinkHtml = 'Like what you see? Visit the ' +\n",
              "            '<a target=\"_blank\" href=https://colab.research.google.com/notebooks/data_table.ipynb>data table notebook</a>'\n",
              "            + ' to learn more about interactive tables.';\n",
              "          element.innerHTML = '';\n",
              "          dataTable['output_type'] = 'display_data';\n",
              "          await google.colab.output.renderOutput(dataTable, element);\n",
              "          const docLink = document.createElement('div');\n",
              "          docLink.innerHTML = docLinkHtml;\n",
              "          element.appendChild(docLink);\n",
              "        }\n",
              "      </script>\n",
              "    </div>\n",
              "  </div>\n",
              "  "
            ]
          },
          "metadata": {},
          "execution_count": 505
        }
      ]
    },
    {
      "cell_type": "markdown",
      "source": [
        "Checking the count of duplicate value"
      ],
      "metadata": {
        "id": "a261rOc_gSS6"
      }
    },
    {
      "cell_type": "code",
      "source": [
        "df.duplicated().sum()"
      ],
      "metadata": {
        "colab": {
          "base_uri": "https://localhost:8080/"
        },
        "id": "Sc_gtcSQgX58",
        "outputId": "83870a91-28e5-4720-f31f-9869bb58d8cc"
      },
      "execution_count": 506,
      "outputs": [
        {
          "output_type": "execute_result",
          "data": {
            "text/plain": [
              "976"
            ]
          },
          "metadata": {},
          "execution_count": 506
        }
      ]
    },
    {
      "cell_type": "markdown",
      "source": [
        "Check each columns unique values"
      ],
      "metadata": {
        "id": "AsrEPGPig3Ns"
      }
    },
    {
      "cell_type": "code",
      "source": [
        "for i in df.columns:\n",
        "  print(i)\n",
        "  print(df[i].unique())\n",
        "  print('-------------------------------------------------------')"
      ],
      "metadata": {
        "colab": {
          "base_uri": "https://localhost:8080/"
        },
        "id": "QxrBll1bgh8O",
        "outputId": "1b00a424-4eb5-4f83-cd69-9d0da6401330"
      },
      "execution_count": 507,
      "outputs": [
        {
          "output_type": "stream",
          "name": "stdout",
          "text": [
            "pH\n",
            "[6.6 8.5 9.5 5.5 4.5 8.1 6.7 5.6 8.6 7.4 6.8 6.5 4.7 3.  9.  6.4]\n",
            "-------------------------------------------------------\n",
            "Temprature\n",
            "[35 36 70 34 37 45 60 66 50 55 90 38 40 43 42 41 65]\n",
            "-------------------------------------------------------\n",
            "Taste\n",
            "[1 0]\n",
            "-------------------------------------------------------\n",
            "Odor\n",
            "[0 1]\n",
            "-------------------------------------------------------\n",
            "Fat \n",
            "[1 0]\n",
            "-------------------------------------------------------\n",
            "Turbidity\n",
            "[0 1]\n",
            "-------------------------------------------------------\n",
            "Colour\n",
            "[254 253 246 255 250 247 245 240 248]\n",
            "-------------------------------------------------------\n",
            "Grade\n",
            "['high' 'low' 'medium']\n",
            "-------------------------------------------------------\n"
          ]
        }
      ]
    },
    {
      "cell_type": "markdown",
      "source": [
        "Check Each columns value counts"
      ],
      "metadata": {
        "id": "OjSkMyVthJ7T"
      }
    },
    {
      "cell_type": "code",
      "source": [
        "for i in df.columns:\n",
        "  print(i)\n",
        "  print(df[i].value_counts())\n",
        "  print('-------------------------------------------------------')"
      ],
      "metadata": {
        "colab": {
          "base_uri": "https://localhost:8080/"
        },
        "id": "W_z1BM8ShBac",
        "outputId": "55f1b5fc-4a62-4568-b423-bf6d47245de2"
      },
      "execution_count": 508,
      "outputs": [
        {
          "output_type": "stream",
          "name": "stdout",
          "text": [
            "pH\n",
            "6.8    249\n",
            "6.5    189\n",
            "6.6    159\n",
            "6.7     82\n",
            "3.0     70\n",
            "9.0     61\n",
            "8.6     40\n",
            "7.4     39\n",
            "4.5     37\n",
            "9.5     24\n",
            "8.1     24\n",
            "5.5     23\n",
            "8.5     22\n",
            "4.7     20\n",
            "5.6     19\n",
            "6.4      1\n",
            "Name: pH, dtype: int64\n",
            "-------------------------------------------------------\n",
            "Temprature\n",
            "45    219\n",
            "38    179\n",
            "40    132\n",
            "37     83\n",
            "43     77\n",
            "36     66\n",
            "50     58\n",
            "55     48\n",
            "34     40\n",
            "41     30\n",
            "66     24\n",
            "35     23\n",
            "70     22\n",
            "65     22\n",
            "60     18\n",
            "90     17\n",
            "42      1\n",
            "Name: Temprature, dtype: int64\n",
            "-------------------------------------------------------\n",
            "Taste\n",
            "1    579\n",
            "0    480\n",
            "Name: Taste, dtype: int64\n",
            "-------------------------------------------------------\n",
            "Odor\n",
            "0    601\n",
            "1    458\n",
            "Name: Odor, dtype: int64\n",
            "-------------------------------------------------------\n",
            "Fat \n",
            "1    711\n",
            "0    348\n",
            "Name: Fat , dtype: int64\n",
            "-------------------------------------------------------\n",
            "Turbidity\n",
            "0    539\n",
            "1    520\n",
            "Name: Turbidity, dtype: int64\n",
            "-------------------------------------------------------\n",
            "Colour\n",
            "255    628\n",
            "250    146\n",
            "245    115\n",
            "247     48\n",
            "246     44\n",
            "240     32\n",
            "248     23\n",
            "253     22\n",
            "254      1\n",
            "Name: Colour, dtype: int64\n",
            "-------------------------------------------------------\n",
            "Grade\n",
            "low       429\n",
            "medium    374\n",
            "high      256\n",
            "Name: Grade, dtype: int64\n",
            "-------------------------------------------------------\n"
          ]
        }
      ]
    },
    {
      "cell_type": "markdown",
      "source": [
        "Check the coorelation"
      ],
      "metadata": {
        "id": "_2yJcbVshTD9"
      }
    },
    {
      "cell_type": "code",
      "source": [
        "df.corr()"
      ],
      "metadata": {
        "colab": {
          "base_uri": "https://localhost:8080/",
          "height": 269
        },
        "id": "8b1d2vwphVpQ",
        "outputId": "e774cec1-d211-428b-e38e-99ef7fdcdbae"
      },
      "execution_count": 509,
      "outputs": [
        {
          "output_type": "execute_result",
          "data": {
            "text/plain": [
              "                  pH  Temprature     Taste      Odor      Fat   Turbidity  \\\n",
              "pH          1.000000    0.244684 -0.064053 -0.081331 -0.093429   0.048384   \n",
              "Temprature  0.244684    1.000000 -0.109792 -0.048870  0.024073   0.185106   \n",
              "Taste      -0.064053   -0.109792  1.000000  0.017582  0.324149   0.055755   \n",
              "Odor       -0.081331   -0.048870  0.017582  1.000000  0.314505   0.457935   \n",
              "Fat        -0.093429    0.024073  0.324149  0.314505  1.000000   0.329264   \n",
              "Turbidity   0.048384    0.185106  0.055755  0.457935  0.329264   1.000000   \n",
              "Colour     -0.164565   -0.008511 -0.082654 -0.039361  0.114151   0.136436   \n",
              "\n",
              "              Colour  \n",
              "pH         -0.164565  \n",
              "Temprature -0.008511  \n",
              "Taste      -0.082654  \n",
              "Odor       -0.039361  \n",
              "Fat         0.114151  \n",
              "Turbidity   0.136436  \n",
              "Colour      1.000000  "
            ],
            "text/html": [
              "\n",
              "  <div id=\"df-f71ed129-cf98-44b4-8134-bde629cf88ed\">\n",
              "    <div class=\"colab-df-container\">\n",
              "      <div>\n",
              "<style scoped>\n",
              "    .dataframe tbody tr th:only-of-type {\n",
              "        vertical-align: middle;\n",
              "    }\n",
              "\n",
              "    .dataframe tbody tr th {\n",
              "        vertical-align: top;\n",
              "    }\n",
              "\n",
              "    .dataframe thead th {\n",
              "        text-align: right;\n",
              "    }\n",
              "</style>\n",
              "<table border=\"1\" class=\"dataframe\">\n",
              "  <thead>\n",
              "    <tr style=\"text-align: right;\">\n",
              "      <th></th>\n",
              "      <th>pH</th>\n",
              "      <th>Temprature</th>\n",
              "      <th>Taste</th>\n",
              "      <th>Odor</th>\n",
              "      <th>Fat</th>\n",
              "      <th>Turbidity</th>\n",
              "      <th>Colour</th>\n",
              "    </tr>\n",
              "  </thead>\n",
              "  <tbody>\n",
              "    <tr>\n",
              "      <th>pH</th>\n",
              "      <td>1.000000</td>\n",
              "      <td>0.244684</td>\n",
              "      <td>-0.064053</td>\n",
              "      <td>-0.081331</td>\n",
              "      <td>-0.093429</td>\n",
              "      <td>0.048384</td>\n",
              "      <td>-0.164565</td>\n",
              "    </tr>\n",
              "    <tr>\n",
              "      <th>Temprature</th>\n",
              "      <td>0.244684</td>\n",
              "      <td>1.000000</td>\n",
              "      <td>-0.109792</td>\n",
              "      <td>-0.048870</td>\n",
              "      <td>0.024073</td>\n",
              "      <td>0.185106</td>\n",
              "      <td>-0.008511</td>\n",
              "    </tr>\n",
              "    <tr>\n",
              "      <th>Taste</th>\n",
              "      <td>-0.064053</td>\n",
              "      <td>-0.109792</td>\n",
              "      <td>1.000000</td>\n",
              "      <td>0.017582</td>\n",
              "      <td>0.324149</td>\n",
              "      <td>0.055755</td>\n",
              "      <td>-0.082654</td>\n",
              "    </tr>\n",
              "    <tr>\n",
              "      <th>Odor</th>\n",
              "      <td>-0.081331</td>\n",
              "      <td>-0.048870</td>\n",
              "      <td>0.017582</td>\n",
              "      <td>1.000000</td>\n",
              "      <td>0.314505</td>\n",
              "      <td>0.457935</td>\n",
              "      <td>-0.039361</td>\n",
              "    </tr>\n",
              "    <tr>\n",
              "      <th>Fat</th>\n",
              "      <td>-0.093429</td>\n",
              "      <td>0.024073</td>\n",
              "      <td>0.324149</td>\n",
              "      <td>0.314505</td>\n",
              "      <td>1.000000</td>\n",
              "      <td>0.329264</td>\n",
              "      <td>0.114151</td>\n",
              "    </tr>\n",
              "    <tr>\n",
              "      <th>Turbidity</th>\n",
              "      <td>0.048384</td>\n",
              "      <td>0.185106</td>\n",
              "      <td>0.055755</td>\n",
              "      <td>0.457935</td>\n",
              "      <td>0.329264</td>\n",
              "      <td>1.000000</td>\n",
              "      <td>0.136436</td>\n",
              "    </tr>\n",
              "    <tr>\n",
              "      <th>Colour</th>\n",
              "      <td>-0.164565</td>\n",
              "      <td>-0.008511</td>\n",
              "      <td>-0.082654</td>\n",
              "      <td>-0.039361</td>\n",
              "      <td>0.114151</td>\n",
              "      <td>0.136436</td>\n",
              "      <td>1.000000</td>\n",
              "    </tr>\n",
              "  </tbody>\n",
              "</table>\n",
              "</div>\n",
              "      <button class=\"colab-df-convert\" onclick=\"convertToInteractive('df-f71ed129-cf98-44b4-8134-bde629cf88ed')\"\n",
              "              title=\"Convert this dataframe to an interactive table.\"\n",
              "              style=\"display:none;\">\n",
              "        \n",
              "  <svg xmlns=\"http://www.w3.org/2000/svg\" height=\"24px\"viewBox=\"0 0 24 24\"\n",
              "       width=\"24px\">\n",
              "    <path d=\"M0 0h24v24H0V0z\" fill=\"none\"/>\n",
              "    <path d=\"M18.56 5.44l.94 2.06.94-2.06 2.06-.94-2.06-.94-.94-2.06-.94 2.06-2.06.94zm-11 1L8.5 8.5l.94-2.06 2.06-.94-2.06-.94L8.5 2.5l-.94 2.06-2.06.94zm10 10l.94 2.06.94-2.06 2.06-.94-2.06-.94-.94-2.06-.94 2.06-2.06.94z\"/><path d=\"M17.41 7.96l-1.37-1.37c-.4-.4-.92-.59-1.43-.59-.52 0-1.04.2-1.43.59L10.3 9.45l-7.72 7.72c-.78.78-.78 2.05 0 2.83L4 21.41c.39.39.9.59 1.41.59.51 0 1.02-.2 1.41-.59l7.78-7.78 2.81-2.81c.8-.78.8-2.07 0-2.86zM5.41 20L4 18.59l7.72-7.72 1.47 1.35L5.41 20z\"/>\n",
              "  </svg>\n",
              "      </button>\n",
              "      \n",
              "  <style>\n",
              "    .colab-df-container {\n",
              "      display:flex;\n",
              "      flex-wrap:wrap;\n",
              "      gap: 12px;\n",
              "    }\n",
              "\n",
              "    .colab-df-convert {\n",
              "      background-color: #E8F0FE;\n",
              "      border: none;\n",
              "      border-radius: 50%;\n",
              "      cursor: pointer;\n",
              "      display: none;\n",
              "      fill: #1967D2;\n",
              "      height: 32px;\n",
              "      padding: 0 0 0 0;\n",
              "      width: 32px;\n",
              "    }\n",
              "\n",
              "    .colab-df-convert:hover {\n",
              "      background-color: #E2EBFA;\n",
              "      box-shadow: 0px 1px 2px rgba(60, 64, 67, 0.3), 0px 1px 3px 1px rgba(60, 64, 67, 0.15);\n",
              "      fill: #174EA6;\n",
              "    }\n",
              "\n",
              "    [theme=dark] .colab-df-convert {\n",
              "      background-color: #3B4455;\n",
              "      fill: #D2E3FC;\n",
              "    }\n",
              "\n",
              "    [theme=dark] .colab-df-convert:hover {\n",
              "      background-color: #434B5C;\n",
              "      box-shadow: 0px 1px 3px 1px rgba(0, 0, 0, 0.15);\n",
              "      filter: drop-shadow(0px 1px 2px rgba(0, 0, 0, 0.3));\n",
              "      fill: #FFFFFF;\n",
              "    }\n",
              "  </style>\n",
              "\n",
              "      <script>\n",
              "        const buttonEl =\n",
              "          document.querySelector('#df-f71ed129-cf98-44b4-8134-bde629cf88ed button.colab-df-convert');\n",
              "        buttonEl.style.display =\n",
              "          google.colab.kernel.accessAllowed ? 'block' : 'none';\n",
              "\n",
              "        async function convertToInteractive(key) {\n",
              "          const element = document.querySelector('#df-f71ed129-cf98-44b4-8134-bde629cf88ed');\n",
              "          const dataTable =\n",
              "            await google.colab.kernel.invokeFunction('convertToInteractive',\n",
              "                                                     [key], {});\n",
              "          if (!dataTable) return;\n",
              "\n",
              "          const docLinkHtml = 'Like what you see? Visit the ' +\n",
              "            '<a target=\"_blank\" href=https://colab.research.google.com/notebooks/data_table.ipynb>data table notebook</a>'\n",
              "            + ' to learn more about interactive tables.';\n",
              "          element.innerHTML = '';\n",
              "          dataTable['output_type'] = 'display_data';\n",
              "          await google.colab.output.renderOutput(dataTable, element);\n",
              "          const docLink = document.createElement('div');\n",
              "          docLink.innerHTML = docLinkHtml;\n",
              "          element.appendChild(docLink);\n",
              "        }\n",
              "      </script>\n",
              "    </div>\n",
              "  </div>\n",
              "  "
            ]
          },
          "metadata": {},
          "execution_count": 509
        }
      ]
    },
    {
      "cell_type": "code",
      "source": [
        "corr = df.corr()\n",
        "plt.figure(figsize=(15,8))\n",
        "sns.heatmap(corr, cmap='RdBu', vmin=-1, vmax= 1 , annot=True)"
      ],
      "metadata": {
        "colab": {
          "base_uri": "https://localhost:8080/",
          "height": 699
        },
        "id": "tPUDNKrK0U5y",
        "outputId": "24ae152a-65ff-418e-85d2-300f8f6cb11b"
      },
      "execution_count": 510,
      "outputs": [
        {
          "output_type": "execute_result",
          "data": {
            "text/plain": [
              "<Axes: >"
            ]
          },
          "metadata": {},
          "execution_count": 510
        },
        {
          "output_type": "display_data",
          "data": {
            "text/plain": [
              "<Figure size 1500x800 with 2 Axes>"
            ],
            "image/png": "[encoded data removed]"
          },
          "metadata": {}
        }
      ]
    },
    {
      "cell_type": "code",
      "source": [
        "plt.figure(figsize=(10,4))\n",
        "df.boxplot()"
      ],
      "metadata": {
        "colab": {
          "base_uri": "https://localhost:8080/",
          "height": 385
        },
        "id": "_VZ76feohfhd",
        "outputId": "85ed87fb-0e21-43f6-abef-d3bee26cf9cf"
      },
      "execution_count": 511,
      "outputs": [
        {
          "output_type": "execute_result",
          "data": {
            "text/plain": [
              "<Axes: >"
            ]
          },
          "metadata": {},
          "execution_count": 511
        },
        {
          "output_type": "display_data",
          "data": {
            "text/plain": [
              "<Figure size 1000x400 with 1 Axes>"
            ],
            "image/png": "[encoded data removed]"
          },
          "metadata": {}
        }
      ]
    },
    {
      "cell_type": "code",
      "source": [
        "df.hist(figsize=(15,20));"
      ],
      "metadata": {
        "colab": {
          "base_uri": "https://localhost:8080/",
          "height": 1000
        },
        "id": "2dz92MHRh7th",
        "outputId": "07236b32-1eaf-4cfc-9d04-20b76738ce1a"
      },
      "execution_count": 512,
      "outputs": [
        {
          "output_type": "display_data",
          "data": {
            "text/plain": [
              "<Figure size 1500x2000 with 9 Axes>"
            ],
            "image/png": "[encoded data removed]"
          },
          "metadata": {}
        }
      ]
    },
    {
      "cell_type": "markdown",
      "source": [
        "Count plot"
      ],
      "metadata": {
        "id": "Fm8TCJrDiLM5"
      }
    },
    {
      "cell_type": "code",
      "source": [
        "sns.countplot(x='Grade', data=df).set_title('Count plot for Milk variants.')"
      ],
      "metadata": {
        "colab": {
          "base_uri": "https://localhost:8080/",
          "height": 489
        },
        "id": "u4MNINuKiI8r",
        "outputId": "c3a23ef4-1cb0-4fc7-b0e6-0e689048b5af"
      },
      "execution_count": 513,
      "outputs": [
        {
          "output_type": "execute_result",
          "data": {
            "text/plain": [
              "Text(0.5, 1.0, 'Count plot for Milk variants.')"
            ]
          },
          "metadata": {},
          "execution_count": 513
        },
        {
          "output_type": "display_data",
          "data": {
            "text/plain": [
              "<Figure size 640x480 with 1 Axes>"
            ],
            "image/png": "[encoded data removed]"
          },
          "metadata": {}
        }
      ]
    },
    {
      "cell_type": "code",
      "source": [
        "plt.figure(figsize=(3,3))\n",
        "sns.barplot(x='Odor',y='Taste',hue='Grade',data=df)\n",
        "plt.show()"
      ],
      "metadata": {
        "colab": {
          "base_uri": "https://localhost:8080/",
          "height": 311
        },
        "id": "4MeBeXrQiqDt",
        "outputId": "3a03a121-f8f3-4610-c11b-a77c2e02e9c7"
      },
      "execution_count": 514,
      "outputs": [
        {
          "output_type": "display_data",
          "data": {
            "text/plain": [
              "<Figure size 300x300 with 1 Axes>"
            ],
            "image/png": "[encoded data removed]"
          },
          "metadata": {}
        }
      ]
    },
    {
      "cell_type": "code",
      "source": [
        "plt.figure(figsize=(3,3))\n",
        "sns.scatterplot(x='Turbidity',y='pH',hue='Grade',data=df)\n",
        "plt.show()"
      ],
      "metadata": {
        "colab": {
          "base_uri": "https://localhost:8080/",
          "height": 311
        },
        "id": "Fi5-9KoFivmp",
        "outputId": "9f38b23a-035f-4f2a-cda0-4801f1e309aa"
      },
      "execution_count": 515,
      "outputs": [
        {
          "output_type": "display_data",
          "data": {
            "text/plain": [
              "<Figure size 300x300 with 1 Axes>"
            ],
            "image/png": "[encoded data removed]"
          },
          "metadata": {}
        }
      ]
    },
    {
      "cell_type": "code",
      "source": [
        "df['Taste'].value_counts().plot(kind='pie',autopct='%.2f')"
      ],
      "metadata": {
        "colab": {
          "base_uri": "https://localhost:8080/",
          "height": 423
        },
        "id": "XXhE5xq_i0Ia",
        "outputId": "2d2dd2e8-7243-4573-d32a-721966b42373"
      },
      "execution_count": 516,
      "outputs": [
        {
          "output_type": "execute_result",
          "data": {
            "text/plain": [
              "<Axes: ylabel='Taste'>"
            ]
          },
          "metadata": {},
          "execution_count": 516
        },
        {
          "output_type": "display_data",
          "data": {
            "text/plain": [
              "<Figure size 640x480 with 1 Axes>"
            ],
            "image/png": "[encoded data removed]"
          },
          "metadata": {}
        }
      ]
    },
    {
      "cell_type": "code",
      "source": [
        "sns.histplot(df['pH'],kde=True)"
      ],
      "metadata": {
        "colab": {
          "base_uri": "https://localhost:8080/",
          "height": 466
        },
        "id": "xWesRUtkjAuU",
        "outputId": "2a379662-e42e-4a49-abb0-e451bd8964e9"
      },
      "execution_count": 517,
      "outputs": [
        {
          "output_type": "execute_result",
          "data": {
            "text/plain": [
              "<Axes: xlabel='pH', ylabel='Count'>"
            ]
          },
          "metadata": {},
          "execution_count": 517
        },
        {
          "output_type": "display_data",
          "data": {
            "text/plain": [
              "<Figure size 640x480 with 1 Axes>"
            ],
            "image/png": "[encoded data removed]"
          },
          "metadata": {}
        }
      ]
    },
    {
      "cell_type": "markdown",
      "source": [
        "# Feature Engineering\n",
        "\n",
        "Convert categorical feature to numerical feature of Grade"
      ],
      "metadata": {
        "id": "yhhTunt-jOjV"
      }
    },
    {
      "cell_type": "code",
      "source": [
        "from sklearn import preprocessing\n",
        "label_encoder = preprocessing.LabelEncoder()\n",
        "#transform Grade in numerical numbers using label encoder\n",
        "df['Grade']= label_encoder.fit_transform(df['Grade'])\n",
        "df.head()"
      ],
      "metadata": {
        "colab": {
          "base_uri": "https://localhost:8080/",
          "height": 206
        },
        "id": "JZArqRoJjT38",
        "outputId": "92d1f178-a50d-4650-b129-046da0ac9121"
      },
      "execution_count": 518,
      "outputs": [
        {
          "output_type": "execute_result",
          "data": {
            "text/plain": [
              "    pH  Temprature  Taste  Odor  Fat   Turbidity  Colour  Grade\n",
              "0  6.6          35      1     0     1          0     254      0\n",
              "1  6.6          36      0     1     0          1     253      0\n",
              "2  8.5          70      1     1     1          1     246      1\n",
              "3  9.5          34      1     1     0          1     255      1\n",
              "4  6.6          37      0     0     0          0     255      2"
            ],
            "text/html": [
              "\n",
              "  <div id=\"df-a474134b-1a1f-44f4-99cc-641f6c62a3fe\">\n",
              "    <div class=\"colab-df-container\">\n",
              "      <div>\n",
              "<style scoped>\n",
              "    .dataframe tbody tr th:only-of-type {\n",
              "        vertical-align: middle;\n",
              "    }\n",
              "\n",
              "    .dataframe tbody tr th {\n",
              "        vertical-align: top;\n",
              "    }\n",
              "\n",
              "    .dataframe thead th {\n",
              "        text-align: right;\n",
              "    }\n",
              "</style>\n",
              "<table border=\"1\" class=\"dataframe\">\n",
              "  <thead>\n",
              "    <tr style=\"text-align: right;\">\n",
              "      <th></th>\n",
              "      <th>pH</th>\n",
              "      <th>Temprature</th>\n",
              "      <th>Taste</th>\n",
              "      <th>Odor</th>\n",
              "      <th>Fat</th>\n",
              "      <th>Turbidity</th>\n",
              "      <th>Colour</th>\n",
              "      <th>Grade</th>\n",
              "    </tr>\n",
              "  </thead>\n",
              "  <tbody>\n",
              "    <tr>\n",
              "      <th>0</th>\n",
              "      <td>6.6</td>\n",
              "      <td>35</td>\n",
              "      <td>1</td>\n",
              "      <td>0</td>\n",
              "      <td>1</td>\n",
              "      <td>0</td>\n",
              "      <td>254</td>\n",
              "      <td>0</td>\n",
              "    </tr>\n",
              "    <tr>\n",
              "      <th>1</th>\n",
              "      <td>6.6</td>\n",
              "      <td>36</td>\n",
              "      <td>0</td>\n",
              "      <td>1</td>\n",
              "      <td>0</td>\n",
              "      <td>1</td>\n",
              "      <td>253</td>\n",
              "      <td>0</td>\n",
              "    </tr>\n",
              "    <tr>\n",
              "      <th>2</th>\n",
              "      <td>8.5</td>\n",
              "      <td>70</td>\n",
              "      <td>1</td>\n",
              "      <td>1</td>\n",
              "      <td>1</td>\n",
              "      <td>1</td>\n",
              "      <td>246</td>\n",
              "      <td>1</td>\n",
              "    </tr>\n",
              "    <tr>\n",
              "      <th>3</th>\n",
              "      <td>9.5</td>\n",
              "      <td>34</td>\n",
              "      <td>1</td>\n",
              "      <td>1</td>\n",
              "      <td>0</td>\n",
              "      <td>1</td>\n",
              "      <td>255</td>\n",
              "      <td>1</td>\n",
              "    </tr>\n",
              "    <tr>\n",
              "      <th>4</th>\n",
              "      <td>6.6</td>\n",
              "      <td>37</td>\n",
              "      <td>0</td>\n",
              "      <td>0</td>\n",
              "      <td>0</td>\n",
              "      <td>0</td>\n",
              "      <td>255</td>\n",
              "      <td>2</td>\n",
              "    </tr>\n",
              "  </tbody>\n",
              "</table>\n",
              "</div>\n",
              "      <button class=\"colab-df-convert\" onclick=\"convertToInteractive('df-a474134b-1a1f-44f4-99cc-641f6c62a3fe')\"\n",
              "              title=\"Convert this dataframe to an interactive table.\"\n",
              "              style=\"display:none;\">\n",
              "        \n",
              "  <svg xmlns=\"http://www.w3.org/2000/svg\" height=\"24px\"viewBox=\"0 0 24 24\"\n",
              "       width=\"24px\">\n",
              "    <path d=\"M0 0h24v24H0V0z\" fill=\"none\"/>\n",
              "    <path d=\"M18.56 5.44l.94 2.06.94-2.06 2.06-.94-2.06-.94-.94-2.06-.94 2.06-2.06.94zm-11 1L8.5 8.5l.94-2.06 2.06-.94-2.06-.94L8.5 2.5l-.94 2.06-2.06.94zm10 10l.94 2.06.94-2.06 2.06-.94-2.06-.94-.94-2.06-.94 2.06-2.06.94z\"/><path d=\"M17.41 7.96l-1.37-1.37c-.4-.4-.92-.59-1.43-.59-.52 0-1.04.2-1.43.59L10.3 9.45l-7.72 7.72c-.78.78-.78 2.05 0 2.83L4 21.41c.39.39.9.59 1.41.59.51 0 1.02-.2 1.41-.59l7.78-7.78 2.81-2.81c.8-.78.8-2.07 0-2.86zM5.41 20L4 18.59l7.72-7.72 1.47 1.35L5.41 20z\"/>\n",
              "  </svg>\n",
              "      </button>\n",
              "      \n",
              "  <style>\n",
              "    .colab-df-container {\n",
              "      display:flex;\n",
              "      flex-wrap:wrap;\n",
              "      gap: 12px;\n",
              "    }\n",
              "\n",
              "    .colab-df-convert {\n",
              "      background-color: #E8F0FE;\n",
              "      border: none;\n",
              "      border-radius: 50%;\n",
              "      cursor: pointer;\n",
              "      display: none;\n",
              "      fill: #1967D2;\n",
              "      height: 32px;\n",
              "      padding: 0 0 0 0;\n",
              "      width: 32px;\n",
              "    }\n",
              "\n",
              "    .colab-df-convert:hover {\n",
              "      background-color: #E2EBFA;\n",
              "      box-shadow: 0px 1px 2px rgba(60, 64, 67, 0.3), 0px 1px 3px 1px rgba(60, 64, 67, 0.15);\n",
              "      fill: #174EA6;\n",
              "    }\n",
              "\n",
              "    [theme=dark] .colab-df-convert {\n",
              "      background-color: #3B4455;\n",
              "      fill: #D2E3FC;\n",
              "    }\n",
              "\n",
              "    [theme=dark] .colab-df-convert:hover {\n",
              "      background-color: #434B5C;\n",
              "      box-shadow: 0px 1px 3px 1px rgba(0, 0, 0, 0.15);\n",
              "      filter: drop-shadow(0px 1px 2px rgba(0, 0, 0, 0.3));\n",
              "      fill: #FFFFFF;\n",
              "    }\n",
              "  </style>\n",
              "\n",
              "      <script>\n",
              "        const buttonEl =\n",
              "          document.querySelector('#df-a474134b-1a1f-44f4-99cc-641f6c62a3fe button.colab-df-convert');\n",
              "        buttonEl.style.display =\n",
              "          google.colab.kernel.accessAllowed ? 'block' : 'none';\n",
              "\n",
              "        async function convertToInteractive(key) {\n",
              "          const element = document.querySelector('#df-a474134b-1a1f-44f4-99cc-641f6c62a3fe');\n",
              "          const dataTable =\n",
              "            await google.colab.kernel.invokeFunction('convertToInteractive',\n",
              "                                                     [key], {});\n",
              "          if (!dataTable) return;\n",
              "\n",
              "          const docLinkHtml = 'Like what you see? Visit the ' +\n",
              "            '<a target=\"_blank\" href=https://colab.research.google.com/notebooks/data_table.ipynb>data table notebook</a>'\n",
              "            + ' to learn more about interactive tables.';\n",
              "          element.innerHTML = '';\n",
              "          dataTable['output_type'] = 'display_data';\n",
              "          await google.colab.output.renderOutput(dataTable, element);\n",
              "          const docLink = document.createElement('div');\n",
              "          docLink.innerHTML = docLinkHtml;\n",
              "          element.appendChild(docLink);\n",
              "        }\n",
              "      </script>\n",
              "    </div>\n",
              "  </div>\n",
              "  "
            ]
          },
          "metadata": {},
          "execution_count": 518
        }
      ]
    },
    {
      "cell_type": "markdown",
      "source": [
        "# Building a Machine Learning Model"
      ],
      "metadata": {
        "id": "tQOgFXGZjtXG"
      }
    },
    {
      "cell_type": "code",
      "source": [
        "from sklearn.tree import DecisionTreeClassifier\n",
        "from sklearn.neighbors import KNeighborsClassifier\n",
        "from sklearn.ensemble import RandomForestClassifier\n",
        "from sklearn.linear_model import LogisticRegression\n",
        "from xgboost import XGBClassifier\n",
        "from sklearn.metrics import ConfusionMatrixDisplay,classification_report,accuracy_score"
      ],
      "metadata": {
        "id": "DXjkg_tRjl7d"
      },
      "execution_count": 519,
      "outputs": []
    },
    {
      "cell_type": "code",
      "source": [
        " #spliting into train and test\n",
        "x= df.drop(['Grade'],axis=1)\n",
        "y= df['Grade']"
      ],
      "metadata": {
        "id": "V12rNYAPkASJ"
      },
      "execution_count": 520,
      "outputs": []
    },
    {
      "cell_type": "code",
      "source": [
        "X_train,X_test,y_train,y_test = train_test_split(x,y,test_size=0.3,random_state=1)"
      ],
      "metadata": {
        "id": "pGVxJq3OkFBH"
      },
      "execution_count": 521,
      "outputs": []
    },
    {
      "cell_type": "code",
      "source": [
        "print(\"X Train : \", X_train.shape)\n",
        "print(\"X Test : \", X_test.shape)\n",
        "print(\"Y Train : \", y_train.shape)\n",
        "print(\"Y Test : \", y_test.shape)"
      ],
      "metadata": {
        "colab": {
          "base_uri": "https://localhost:8080/"
        },
        "id": "Qq15mA5IkaET",
        "outputId": "6f9afc68-2ee5-4b7b-84e4-902c79069c9b"
      },
      "execution_count": 522,
      "outputs": [
        {
          "output_type": "stream",
          "name": "stdout",
          "text": [
            "X Train :  (741, 7)\n",
            "X Test :  (318, 7)\n",
            "Y Train :  (741,)\n",
            "Y Test :  (318,)\n"
          ]
        }
      ]
    },
    {
      "cell_type": "code",
      "source": [
        "m1 = 'Logistic Regression'\n",
        "lr = LogisticRegression()\n",
        "model = lr.fit(X_train, y_train)\n",
        "lr_predict = lr.predict(X_test)\n",
        "lr_predict"
      ],
      "metadata": {
        "colab": {
          "base_uri": "https://localhost:8080/"
        },
        "id": "fWC38JY_kk38",
        "outputId": "c2500d69-fb7c-423b-9cb2-5caf22f34a9f"
      },
      "execution_count": 523,
      "outputs": [
        {
          "output_type": "execute_result",
          "data": {
            "text/plain": [
              "array([2, 1, 0, 2, 2, 2, 0, 1, 2, 2, 0, 2, 0, 2, 1, 2, 2, 0, 1, 1, 2, 2,\n",
              "       1, 1, 2, 2, 2, 2, 0, 2, 2, 2, 0, 1, 2, 2, 0, 0, 2, 0, 0, 0, 2, 2,\n",
              "       0, 2, 1, 2, 2, 1, 1, 0, 2, 1, 1, 1, 2, 1, 2, 2, 2, 1, 1, 2, 1, 2,\n",
              "       1, 1, 1, 2, 1, 1, 1, 1, 2, 1, 0, 1, 1, 2, 1, 1, 2, 1, 0, 1, 2, 1,\n",
              "       2, 1, 2, 2, 2, 0, 0, 1, 2, 1, 2, 2, 1, 2, 2, 2, 2, 1, 1, 2, 1, 1,\n",
              "       1, 2, 2, 1, 1, 2, 0, 1, 2, 1, 0, 1, 2, 1, 1, 1, 2, 2, 2, 2, 2, 1,\n",
              "       2, 2, 0, 2, 2, 1, 2, 0, 1, 1, 2, 1, 2, 2, 2, 1, 2, 2, 1, 0, 1, 2,\n",
              "       1, 2, 2, 2, 1, 1, 2, 1, 2, 1, 2, 2, 2, 2, 2, 1, 1, 1, 2, 2, 1, 1,\n",
              "       1, 1, 1, 2, 1, 2, 0, 1, 2, 1, 0, 2, 2, 1, 2, 2, 1, 2, 1, 2, 2, 1,\n",
              "       0, 2, 2, 1, 1, 2, 1, 2, 1, 0, 2, 1, 1, 1, 1, 2, 1, 0, 2, 2, 1, 2,\n",
              "       2, 0, 2, 1, 0, 1, 2, 2, 0, 2, 0, 0, 2, 1, 1, 1, 2, 1, 2, 1, 2, 2,\n",
              "       2, 0, 0, 1, 2, 1, 2, 2, 1, 0, 0, 1, 0, 2, 1, 2, 1, 1, 1, 1, 2, 2,\n",
              "       1, 1, 2, 1, 2, 1, 1, 1, 1, 0, 1, 1, 1, 2, 0, 1, 1, 2, 2, 2, 2, 1,\n",
              "       1, 0, 1, 2, 0, 1, 2, 0, 2, 1, 1, 2, 0, 1, 1, 2, 2, 1, 0, 1, 2, 1,\n",
              "       1, 2, 1, 1, 2, 2, 1, 1, 1, 1])"
            ]
          },
          "metadata": {},
          "execution_count": 523
        }
      ]
    },
    {
      "cell_type": "code",
      "source": [
        "lr_acc_score = accuracy_score(y_test, lr_predict)\n",
        "print(classification_report(y_test,lr_predict))\n",
        "print(ConfusionMatrixDisplay.from_predictions(y_test,lr_predict))"
      ],
      "metadata": {
        "colab": {
          "base_uri": "https://localhost:8080/",
          "height": 640
        },
        "id": "knOmItQflbNh",
        "outputId": "fd6b3d43-f79b-4b6f-e79e-f68640be4486"
      },
      "execution_count": 524,
      "outputs": [
        {
          "output_type": "stream",
          "name": "stdout",
          "text": [
            "              precision    recall  f1-score   support\n",
            "\n",
            "           0       0.76      0.48      0.59        71\n",
            "           1       0.81      0.76      0.78       142\n",
            "           2       0.68      0.90      0.77       105\n",
            "\n",
            "    accuracy                           0.74       318\n",
            "   macro avg       0.75      0.71      0.71       318\n",
            "weighted avg       0.75      0.74      0.73       318\n",
            "\n",
            "<sklearn.metrics._plot.confusion_matrix.ConfusionMatrixDisplay object at 0x7f377a7458e0>\n"
          ]
        },
        {
          "output_type": "display_data",
          "data": {
            "text/plain": [
              "<Figure size 640x480 with 2 Axes>"
            ],
            "image/png": "[encoded data removed]"
          },
          "metadata": {}
        }
      ]
    },
    {
      "cell_type": "code",
      "source": [
        "m2 = 'Random Forest Classfier'\n",
        "rf = RandomForestClassifier(n_estimators=20, random_state=0,max_depth=5)\n",
        "rf.fit(X_train,y_train)\n",
        "rf_predicted = rf.predict(X_test)\n",
        "rf_predicted"
      ],
      "metadata": {
        "colab": {
          "base_uri": "https://localhost:8080/"
        },
        "id": "C79dFhXxmfb7",
        "outputId": "e303708c-7bd0-4830-844d-a8d2ed471e2b"
      },
      "execution_count": 525,
      "outputs": [
        {
          "output_type": "execute_result",
          "data": {
            "text/plain": [
              "array([2, 1, 0, 1, 0, 2, 1, 1, 0, 1, 0, 2, 0, 2, 0, 2, 2, 0, 1, 1, 2, 2,\n",
              "       0, 1, 2, 2, 2, 2, 1, 2, 1, 1, 0, 1, 0, 0, 0, 2, 2, 1, 0, 1, 2, 2,\n",
              "       0, 2, 1, 2, 2, 0, 1, 0, 2, 1, 1, 1, 2, 1, 0, 0, 2, 1, 1, 2, 1, 0,\n",
              "       1, 2, 1, 2, 1, 0, 1, 1, 0, 2, 0, 1, 0, 1, 2, 1, 2, 1, 1, 1, 2, 1,\n",
              "       2, 1, 2, 2, 0, 0, 0, 1, 1, 1, 1, 2, 1, 2, 1, 2, 2, 1, 1, 2, 1, 2,\n",
              "       1, 2, 2, 0, 1, 2, 0, 1, 1, 1, 0, 1, 2, 1, 1, 1, 1, 2, 2, 2, 2, 2,\n",
              "       2, 0, 0, 0, 1, 1, 1, 0, 1, 1, 2, 1, 0, 1, 2, 1, 2, 2, 1, 1, 1, 2,\n",
              "       1, 2, 2, 2, 1, 1, 2, 2, 2, 1, 2, 1, 2, 1, 2, 1, 1, 1, 2, 2, 0, 1,\n",
              "       1, 1, 0, 0, 1, 2, 0, 1, 2, 1, 0, 1, 2, 1, 2, 2, 1, 2, 0, 1, 2, 0,\n",
              "       0, 2, 2, 0, 1, 1, 1, 2, 1, 0, 2, 1, 1, 1, 1, 2, 1, 0, 2, 2, 2, 2,\n",
              "       2, 2, 2, 1, 0, 2, 2, 0, 0, 2, 0, 0, 2, 1, 1, 0, 2, 1, 1, 1, 0, 2,\n",
              "       1, 1, 0, 1, 0, 0, 2, 1, 1, 0, 1, 1, 0, 2, 1, 2, 1, 1, 1, 1, 2, 2,\n",
              "       0, 1, 2, 1, 2, 1, 1, 1, 1, 0, 1, 1, 1, 1, 0, 0, 0, 1, 1, 0, 2, 1,\n",
              "       1, 0, 1, 2, 0, 1, 0, 0, 0, 1, 1, 2, 0, 0, 1, 1, 2, 1, 2, 1, 1, 1,\n",
              "       1, 2, 1, 1, 2, 2, 1, 1, 0, 1])"
            ]
          },
          "metadata": {},
          "execution_count": 525
        }
      ]
    },
    {
      "cell_type": "code",
      "source": [
        "rf_acc_score = accuracy_score(y_test, rf_predicted)\n",
        "print(classification_report(y_test,rf_predicted))\n",
        "print(ConfusionMatrixDisplay.from_predictions(y_test,rf_predicted))"
      ],
      "metadata": {
        "colab": {
          "base_uri": "https://localhost:8080/",
          "height": 641
        },
        "id": "9APdWgG2mmKl",
        "outputId": "d6cb3c5b-892e-4e8d-e6a2-4a6824a7a94c"
      },
      "execution_count": 526,
      "outputs": [
        {
          "output_type": "stream",
          "name": "stdout",
          "text": [
            "              precision    recall  f1-score   support\n",
            "\n",
            "           0       1.00      1.00      1.00        71\n",
            "           1       1.00      1.00      1.00       142\n",
            "           2       1.00      1.00      1.00       105\n",
            "\n",
            "    accuracy                           1.00       318\n",
            "   macro avg       1.00      1.00      1.00       318\n",
            "weighted avg       1.00      1.00      1.00       318\n",
            "\n",
            "<sklearn.metrics._plot.confusion_matrix.ConfusionMatrixDisplay object at 0x7f3778591880>\n"
          ]
        },
        {
          "output_type": "display_data",
          "data": {
            "text/plain": [
              "<Figure size 640x480 with 2 Axes>"
            ],
            "image/png": "[encoded data removed]"
          },
          "metadata": {}
        }
      ]
    },
    {
      "cell_type": "code",
      "source": [
        "m3 = 'K-NeighborsClassifier'\n",
        "knn = KNeighborsClassifier(n_neighbors=10)\n",
        "knn.fit(X_train, y_train)\n",
        "knn_predicted = knn.predict(X_test)\n",
        "knn_predicted"
      ],
      "metadata": {
        "colab": {
          "base_uri": "https://localhost:8080/"
        },
        "id": "SX3MBfranJpA",
        "outputId": "59983fc3-07b9-42f1-a66f-8e8a93e755aa"
      },
      "execution_count": 527,
      "outputs": [
        {
          "output_type": "execute_result",
          "data": {
            "text/plain": [
              "array([2, 1, 0, 1, 0, 2, 1, 1, 0, 1, 0, 2, 0, 2, 0, 2, 2, 0, 1, 1, 2, 2,\n",
              "       0, 1, 2, 2, 2, 2, 1, 2, 1, 1, 0, 1, 0, 0, 0, 2, 2, 1, 0, 1, 2, 2,\n",
              "       0, 2, 1, 2, 2, 0, 1, 0, 2, 1, 1, 1, 2, 1, 2, 0, 2, 1, 2, 2, 1, 0,\n",
              "       1, 2, 1, 2, 1, 0, 1, 1, 2, 2, 0, 1, 0, 1, 0, 1, 2, 1, 1, 1, 2, 1,\n",
              "       2, 1, 2, 2, 0, 0, 0, 1, 1, 2, 1, 2, 1, 2, 1, 2, 2, 1, 1, 2, 1, 2,\n",
              "       1, 2, 2, 0, 2, 2, 0, 1, 1, 1, 0, 1, 2, 1, 1, 1, 1, 2, 2, 2, 2, 2,\n",
              "       2, 0, 0, 0, 1, 1, 1, 0, 1, 1, 2, 1, 0, 1, 2, 1, 2, 2, 1, 1, 1, 2,\n",
              "       1, 2, 2, 2, 1, 2, 2, 2, 2, 1, 2, 1, 2, 1, 2, 1, 1, 1, 2, 2, 0, 1,\n",
              "       1, 1, 0, 0, 1, 2, 0, 1, 2, 1, 0, 1, 2, 1, 2, 2, 1, 2, 0, 1, 0, 0,\n",
              "       0, 2, 2, 0, 1, 1, 1, 2, 1, 0, 2, 2, 1, 1, 1, 2, 1, 0, 2, 2, 2, 2,\n",
              "       2, 2, 2, 1, 0, 2, 2, 0, 0, 2, 0, 0, 2, 1, 1, 0, 2, 1, 1, 1, 0, 2,\n",
              "       1, 1, 0, 1, 0, 0, 2, 1, 1, 0, 1, 1, 0, 2, 1, 2, 1, 1, 1, 1, 2, 2,\n",
              "       0, 1, 2, 1, 2, 1, 1, 1, 1, 0, 1, 1, 1, 1, 0, 0, 0, 1, 1, 2, 2, 1,\n",
              "       1, 0, 1, 2, 0, 1, 0, 0, 0, 1, 1, 2, 0, 0, 1, 1, 2, 1, 2, 1, 1, 1,\n",
              "       1, 2, 1, 1, 2, 0, 1, 1, 0, 1])"
            ]
          },
          "metadata": {},
          "execution_count": 527
        }
      ]
    },
    {
      "cell_type": "code",
      "source": [
        "knn_acc_score = accuracy_score(y_test, knn_predicted)\n",
        "print(classification_report(y_test,knn_predicted))\n",
        "print(ConfusionMatrixDisplay.from_predictions(y_test,knn_predicted))"
      ],
      "metadata": {
        "colab": {
          "base_uri": "https://localhost:8080/",
          "height": 640
        },
        "id": "q5YjP5_snMvz",
        "outputId": "1055da84-4191-44fb-af44-4bb4b764d896"
      },
      "execution_count": 528,
      "outputs": [
        {
          "output_type": "stream",
          "name": "stdout",
          "text": [
            "              precision    recall  f1-score   support\n",
            "\n",
            "           0       0.96      0.96      0.96        71\n",
            "           1       1.00      0.96      0.98       142\n",
            "           2       0.93      0.97      0.95       105\n",
            "\n",
            "    accuracy                           0.97       318\n",
            "   macro avg       0.96      0.96      0.96       318\n",
            "weighted avg       0.97      0.97      0.97       318\n",
            "\n",
            "<sklearn.metrics._plot.confusion_matrix.ConfusionMatrixDisplay object at 0x7f37790424f0>\n"
          ]
        },
        {
          "output_type": "display_data",
          "data": {
            "text/plain": [
              "<Figure size 640x480 with 2 Axes>"
            ],
            "image/png": "[encoded data removed]"
          },
          "metadata": {}
        }
      ]
    },
    {
      "cell_type": "code",
      "source": [
        "m4 = 'DecisionTreeClassifier'\n",
        "dt = DecisionTreeClassifier(criterion = 'entropy',random_state=0,max_depth = 6)\n",
        "dt.fit(X_train, y_train)\n",
        "dt_predicted = dt.predict(X_test)\n",
        "dt_predicted"
      ],
      "metadata": {
        "colab": {
          "base_uri": "https://localhost:8080/"
        },
        "id": "yfzwxmRdnSFk",
        "outputId": "340467d4-5ddc-4ea0-cc0b-3b2b334962f1"
      },
      "execution_count": 529,
      "outputs": [
        {
          "output_type": "execute_result",
          "data": {
            "text/plain": [
              "array([2, 1, 0, 1, 0, 2, 1, 1, 0, 1, 0, 2, 0, 2, 0, 2, 2, 0, 1, 1, 2, 2,\n",
              "       0, 1, 2, 0, 2, 2, 1, 2, 1, 1, 0, 1, 0, 0, 0, 0, 2, 1, 0, 1, 2, 2,\n",
              "       0, 2, 1, 2, 2, 0, 1, 0, 2, 1, 1, 1, 2, 1, 0, 0, 2, 1, 1, 2, 1, 0,\n",
              "       1, 2, 1, 2, 1, 0, 1, 1, 0, 2, 0, 1, 0, 1, 2, 1, 2, 1, 1, 1, 0, 1,\n",
              "       2, 1, 2, 0, 0, 0, 0, 1, 1, 1, 1, 2, 1, 2, 1, 2, 2, 1, 1, 2, 1, 2,\n",
              "       1, 0, 2, 0, 1, 0, 0, 1, 1, 1, 0, 1, 2, 1, 1, 1, 1, 0, 0, 0, 2, 2,\n",
              "       2, 0, 0, 0, 1, 1, 1, 0, 1, 1, 0, 1, 0, 1, 0, 1, 0, 0, 1, 1, 1, 2,\n",
              "       1, 2, 2, 2, 1, 1, 2, 2, 2, 1, 2, 1, 2, 1, 2, 1, 1, 1, 0, 2, 0, 1,\n",
              "       1, 1, 0, 0, 1, 2, 0, 1, 2, 1, 0, 1, 0, 1, 2, 2, 1, 2, 0, 1, 0, 0,\n",
              "       0, 2, 2, 0, 1, 1, 1, 2, 1, 0, 0, 1, 1, 1, 1, 2, 1, 0, 2, 2, 2, 0,\n",
              "       2, 0, 2, 1, 0, 2, 2, 0, 0, 2, 0, 0, 0, 1, 1, 0, 2, 1, 1, 1, 0, 2,\n",
              "       1, 1, 0, 1, 0, 0, 2, 1, 1, 0, 1, 1, 0, 0, 1, 2, 1, 1, 1, 1, 2, 2,\n",
              "       0, 1, 0, 1, 0, 1, 1, 1, 1, 0, 1, 1, 1, 1, 0, 0, 0, 1, 1, 0, 2, 1,\n",
              "       1, 0, 1, 2, 0, 1, 0, 0, 0, 1, 1, 2, 0, 0, 1, 1, 2, 1, 0, 1, 1, 1,\n",
              "       1, 2, 1, 1, 0, 2, 1, 1, 0, 1])"
            ]
          },
          "metadata": {},
          "execution_count": 529
        }
      ]
    },
    {
      "cell_type": "code",
      "source": [
        "dt_acc_score = accuracy_score(y_test, dt_predicted)\n",
        "print(classification_report(y_test,dt_predicted))\n",
        "print(ConfusionMatrixDisplay.from_predictions(y_test,dt_predicted))"
      ],
      "metadata": {
        "colab": {
          "base_uri": "https://localhost:8080/",
          "height": 641
        },
        "id": "E0ZpPF-FnYHS",
        "outputId": "3bf185c4-28d1-49cc-cd38-d3844b715fc4"
      },
      "execution_count": 530,
      "outputs": [
        {
          "output_type": "stream",
          "name": "stdout",
          "text": [
            "              precision    recall  f1-score   support\n",
            "\n",
            "           0       0.74      1.00      0.85        71\n",
            "           1       1.00      1.00      1.00       142\n",
            "           2       1.00      0.76      0.86       105\n",
            "\n",
            "    accuracy                           0.92       318\n",
            "   macro avg       0.91      0.92      0.91       318\n",
            "weighted avg       0.94      0.92      0.92       318\n",
            "\n",
            "<sklearn.metrics._plot.confusion_matrix.ConfusionMatrixDisplay object at 0x7f377b3e4a90>\n"
          ]
        },
        {
          "output_type": "display_data",
          "data": {
            "text/plain": [
              "<Figure size 640x480 with 2 Axes>"
            ],
            "image/png": "[encoded data removed]"
          },
          "metadata": {}
        }
      ]
    },
    {
      "cell_type": "code",
      "source": [
        "m5='XGBClassifier'\n",
        "xg=XGBClassifier()\n",
        "xg.fit(X_train,y_train)\n",
        "xg_pred=xg.predict(X_test)\n",
        "xg_pred"
      ],
      "metadata": {
        "colab": {
          "base_uri": "https://localhost:8080/"
        },
        "id": "CDuSafNFnkTn",
        "outputId": "131a96bf-d5b1-418d-c2d9-99eeb018e9cb"
      },
      "execution_count": 531,
      "outputs": [
        {
          "output_type": "execute_result",
          "data": {
            "text/plain": [
              "array([2, 1, 0, 1, 0, 2, 1, 1, 0, 1, 0, 2, 0, 2, 0, 2, 2, 0, 1, 1, 2, 2,\n",
              "       0, 1, 2, 2, 2, 2, 1, 2, 1, 1, 0, 1, 0, 0, 0, 2, 2, 1, 0, 1, 2, 2,\n",
              "       0, 2, 1, 2, 2, 0, 1, 0, 2, 1, 1, 1, 2, 1, 0, 0, 2, 1, 1, 2, 1, 0,\n",
              "       1, 2, 1, 2, 1, 0, 1, 1, 0, 2, 0, 1, 0, 1, 2, 1, 2, 1, 1, 1, 2, 1,\n",
              "       2, 1, 2, 2, 0, 0, 0, 1, 1, 1, 1, 2, 1, 2, 1, 2, 2, 1, 1, 2, 1, 2,\n",
              "       1, 2, 2, 0, 1, 2, 0, 1, 1, 1, 0, 1, 2, 1, 1, 1, 1, 2, 2, 2, 2, 2,\n",
              "       2, 0, 0, 0, 1, 1, 1, 0, 1, 1, 2, 1, 0, 1, 2, 1, 2, 2, 1, 1, 1, 2,\n",
              "       1, 2, 2, 2, 1, 1, 2, 2, 2, 1, 2, 1, 2, 1, 2, 1, 1, 1, 2, 2, 0, 1,\n",
              "       1, 1, 0, 0, 1, 2, 0, 1, 2, 1, 0, 1, 2, 1, 2, 2, 1, 2, 0, 1, 2, 0,\n",
              "       0, 2, 2, 0, 1, 1, 1, 2, 1, 0, 2, 1, 1, 1, 1, 2, 1, 0, 2, 2, 2, 2,\n",
              "       2, 2, 2, 1, 0, 2, 2, 0, 0, 2, 0, 0, 2, 1, 1, 0, 2, 1, 1, 1, 0, 2,\n",
              "       1, 1, 0, 1, 0, 0, 2, 1, 1, 0, 1, 1, 0, 2, 1, 2, 1, 1, 1, 1, 2, 2,\n",
              "       0, 1, 2, 1, 2, 1, 1, 1, 1, 0, 1, 1, 1, 1, 0, 0, 0, 1, 1, 0, 2, 1,\n",
              "       1, 0, 1, 2, 0, 1, 0, 0, 0, 1, 1, 2, 0, 0, 1, 1, 2, 1, 2, 1, 1, 1,\n",
              "       1, 2, 1, 1, 2, 2, 1, 1, 0, 1])"
            ]
          },
          "metadata": {},
          "execution_count": 531
        }
      ]
    },
    {
      "cell_type": "code",
      "source": [
        "xgb_acc_score = accuracy_score(y_test, xg_pred)\n",
        "print(classification_report(y_test,xg_pred))\n",
        "print(ConfusionMatrixDisplay.from_predictions(y_test,xg_pred))"
      ],
      "metadata": {
        "colab": {
          "base_uri": "https://localhost:8080/",
          "height": 641
        },
        "id": "l6wWJCEjnlYj",
        "outputId": "7df53864-e7f7-4255-9bb3-72996e043f3e"
      },
      "execution_count": 532,
      "outputs": [
        {
          "output_type": "stream",
          "name": "stdout",
          "text": [
            "              precision    recall  f1-score   support\n",
            "\n",
            "           0       1.00      1.00      1.00        71\n",
            "           1       1.00      1.00      1.00       142\n",
            "           2       1.00      1.00      1.00       105\n",
            "\n",
            "    accuracy                           1.00       318\n",
            "   macro avg       1.00      1.00      1.00       318\n",
            "weighted avg       1.00      1.00      1.00       318\n",
            "\n",
            "<sklearn.metrics._plot.confusion_matrix.ConfusionMatrixDisplay object at 0x7f3777648f70>\n"
          ]
        },
        {
          "output_type": "display_data",
          "data": {
            "text/plain": [
              "<Figure size 640x480 with 2 Axes>"
            ],
            "image/png": "[encoded data removed]"
          },
          "metadata": {}
        }
      ]
    },
    {
      "cell_type": "markdown",
      "source": [
        "# Model Evaluation"
      ],
      "metadata": {
        "id": "J64QFe1WoIcn"
      }
    },
    {
      "cell_type": "code",
      "source": [
        "model_ev = pd.DataFrame({'Model': ['Logistic Regression','Random Forest',\n",
        "                    'K-Nearest Neighbour','Decision Tree','Extreme Gradient Boost'], 'Accuracy': [lr_acc_score*100,\n",
        "                    rf_acc_score*100,knn_acc_score*100,dt_acc_score*100,xgb_acc_score*100]})\n",
        "model_ev"
      ],
      "metadata": {
        "colab": {
          "base_uri": "https://localhost:8080/",
          "height": 206
        },
        "id": "VRwDM4_8oHvR",
        "outputId": "b85a0cbc-fc0c-4784-be0d-de4d5344a3e5"
      },
      "execution_count": 533,
      "outputs": [
        {
          "output_type": "execute_result",
          "data": {
            "text/plain": [
              "                    Model    Accuracy\n",
              "0     Logistic Regression   74.213836\n",
              "1           Random Forest  100.000000\n",
              "2     K-Nearest Neighbour   96.540881\n",
              "3           Decision Tree   92.138365\n",
              "4  Extreme Gradient Boost  100.000000"
            ],
            "text/html": [
              "\n",
              "  <div id=\"df-92a05e11-dd06-479a-a6fc-573a4a1459c1\">\n",
              "    <div class=\"colab-df-container\">\n",
              "      <div>\n",
              "<style scoped>\n",
              "    .dataframe tbody tr th:only-of-type {\n",
              "        vertical-align: middle;\n",
              "    }\n",
              "\n",
              "    .dataframe tbody tr th {\n",
              "        vertical-align: top;\n",
              "    }\n",
              "\n",
              "    .dataframe thead th {\n",
              "        text-align: right;\n",
              "    }\n",
              "</style>\n",
              "<table border=\"1\" class=\"dataframe\">\n",
              "  <thead>\n",
              "    <tr style=\"text-align: right;\">\n",
              "      <th></th>\n",
              "      <th>Model</th>\n",
              "      <th>Accuracy</th>\n",
              "    </tr>\n",
              "  </thead>\n",
              "  <tbody>\n",
              "    <tr>\n",
              "      <th>0</th>\n",
              "      <td>Logistic Regression</td>\n",
              "      <td>74.213836</td>\n",
              "    </tr>\n",
              "    <tr>\n",
              "      <th>1</th>\n",
              "      <td>Random Forest</td>\n",
              "      <td>100.000000</td>\n",
              "    </tr>\n",
              "    <tr>\n",
              "      <th>2</th>\n",
              "      <td>K-Nearest Neighbour</td>\n",
              "      <td>96.540881</td>\n",
              "    </tr>\n",
              "    <tr>\n",
              "      <th>3</th>\n",
              "      <td>Decision Tree</td>\n",
              "      <td>92.138365</td>\n",
              "    </tr>\n",
              "    <tr>\n",
              "      <th>4</th>\n",
              "      <td>Extreme Gradient Boost</td>\n",
              "      <td>100.000000</td>\n",
              "    </tr>\n",
              "  </tbody>\n",
              "</table>\n",
              "</div>\n",
              "      <button class=\"colab-df-convert\" onclick=\"convertToInteractive('df-92a05e11-dd06-479a-a6fc-573a4a1459c1')\"\n",
              "              title=\"Convert this dataframe to an interactive table.\"\n",
              "              style=\"display:none;\">\n",
              "        \n",
              "  <svg xmlns=\"http://www.w3.org/2000/svg\" height=\"24px\"viewBox=\"0 0 24 24\"\n",
              "       width=\"24px\">\n",
              "    <path d=\"M0 0h24v24H0V0z\" fill=\"none\"/>\n",
              "    <path d=\"M18.56 5.44l.94 2.06.94-2.06 2.06-.94-2.06-.94-.94-2.06-.94 2.06-2.06.94zm-11 1L8.5 8.5l.94-2.06 2.06-.94-2.06-.94L8.5 2.5l-.94 2.06-2.06.94zm10 10l.94 2.06.94-2.06 2.06-.94-2.06-.94-.94-2.06-.94 2.06-2.06.94z\"/><path d=\"M17.41 7.96l-1.37-1.37c-.4-.4-.92-.59-1.43-.59-.52 0-1.04.2-1.43.59L10.3 9.45l-7.72 7.72c-.78.78-.78 2.05 0 2.83L4 21.41c.39.39.9.59 1.41.59.51 0 1.02-.2 1.41-.59l7.78-7.78 2.81-2.81c.8-.78.8-2.07 0-2.86zM5.41 20L4 18.59l7.72-7.72 1.47 1.35L5.41 20z\"/>\n",
              "  </svg>\n",
              "      </button>\n",
              "      \n",
              "  <style>\n",
              "    .colab-df-container {\n",
              "      display:flex;\n",
              "      flex-wrap:wrap;\n",
              "      gap: 12px;\n",
              "    }\n",
              "\n",
              "    .colab-df-convert {\n",
              "      background-color: #E8F0FE;\n",
              "      border: none;\n",
              "      border-radius: 50%;\n",
              "      cursor: pointer;\n",
              "      display: none;\n",
              "      fill: #1967D2;\n",
              "      height: 32px;\n",
              "      padding: 0 0 0 0;\n",
              "      width: 32px;\n",
              "    }\n",
              "\n",
              "    .colab-df-convert:hover {\n",
              "      background-color: #E2EBFA;\n",
              "      box-shadow: 0px 1px 2px rgba(60, 64, 67, 0.3), 0px 1px 3px 1px rgba(60, 64, 67, 0.15);\n",
              "      fill: #174EA6;\n",
              "    }\n",
              "\n",
              "    [theme=dark] .colab-df-convert {\n",
              "      background-color: #3B4455;\n",
              "      fill: #D2E3FC;\n",
              "    }\n",
              "\n",
              "    [theme=dark] .colab-df-convert:hover {\n",
              "      background-color: #434B5C;\n",
              "      box-shadow: 0px 1px 3px 1px rgba(0, 0, 0, 0.15);\n",
              "      filter: drop-shadow(0px 1px 2px rgba(0, 0, 0, 0.3));\n",
              "      fill: #FFFFFF;\n",
              "    }\n",
              "  </style>\n",
              "\n",
              "      <script>\n",
              "        const buttonEl =\n",
              "          document.querySelector('#df-92a05e11-dd06-479a-a6fc-573a4a1459c1 button.colab-df-convert');\n",
              "        buttonEl.style.display =\n",
              "          google.colab.kernel.accessAllowed ? 'block' : 'none';\n",
              "\n",
              "        async function convertToInteractive(key) {\n",
              "          const element = document.querySelector('#df-92a05e11-dd06-479a-a6fc-573a4a1459c1');\n",
              "          const dataTable =\n",
              "            await google.colab.kernel.invokeFunction('convertToInteractive',\n",
              "                                                     [key], {});\n",
              "          if (!dataTable) return;\n",
              "\n",
              "          const docLinkHtml = 'Like what you see? Visit the ' +\n",
              "            '<a target=\"_blank\" href=https://colab.research.google.com/notebooks/data_table.ipynb>data table notebook</a>'\n",
              "            + ' to learn more about interactive tables.';\n",
              "          element.innerHTML = '';\n",
              "          dataTable['output_type'] = 'display_data';\n",
              "          await google.colab.output.renderOutput(dataTable, element);\n",
              "          const docLink = document.createElement('div');\n",
              "          docLink.innerHTML = docLinkHtml;\n",
              "          element.appendChild(docLink);\n",
              "        }\n",
              "      </script>\n",
              "    </div>\n",
              "  </div>\n",
              "  "
            ]
          },
          "metadata": {},
          "execution_count": 533
        }
      ]
    },
    {
      "cell_type": "markdown",
      "source": [
        "It can seen that,all the model accuracy is more than 70%.\n",
        "\n",
        "The highest accuracy is 100% of the Extreme Gradient Boost."
      ],
      "metadata": {
        "id": "8hD0rNY9o7GZ"
      }
    },
    {
      "cell_type": "markdown",
      "source": [
        "Getting Feature Importance using Random Forest Model"
      ],
      "metadata": {
        "id": "r7i0othfq9kX"
      }
    },
    {
      "cell_type": "code",
      "source": [
        "feature_names = list(['pH', 'Temprature', 'Taste', 'Odor', 'Fat ', 'Turbidity', 'Colour'])\n",
        "forest = RandomForestClassifier(random_state=0, max_depth=3, bootstrap=False, criterion='gini')\n",
        "\n",
        "#Fitting the Tree\n",
        "forest.fit(X_train, y_train)\n",
        "importances = forest.feature_importances_\n",
        "std = np.std([tree.feature_importances_ for tree in forest.estimators_], axis=0)\n",
        "\n",
        "forest_importances = pd.Series(importances, index=feature_names)\n",
        "\n",
        "fig, ax = plt.subplots()\n",
        "\n",
        "forest_importances.plot.bar(yerr=std, ax=ax)\n",
        "\n",
        "ax.set_title(\"Feature importances for diff Variables\")\n",
        "ax.set_ylabel(\"Mean decrease in impurity\")\n",
        "\n",
        "plt.show()"
      ],
      "metadata": {
        "colab": {
          "base_uri": "https://localhost:8080/",
          "height": 518
        },
        "id": "7waqNwY1qBD5",
        "outputId": "371b328d-1450-4b2a-8891-fbf6ec3fa6e3"
      },
      "execution_count": 534,
      "outputs": [
        {
          "output_type": "display_data",
          "data": {
            "text/plain": [
              "<Figure size 640x480 with 1 Axes>"
            ],
            "image/png": "[encoded data removed]"
          },
          "metadata": {}
        }
      ]
    },
    {
      "cell_type": "markdown",
      "source": [
        "Given the dataset pH and Temperature seem to be the most valuable features influencing the Grade of the Milk."
      ],
      "metadata": {
        "id": "uq9z7_7LtaJJ"
      }
    },
    {
      "cell_type": "markdown",
      "source": [
        "Predicting Grade based on Input"
      ],
      "metadata": {
        "id": "B7L_XrzetkNA"
      }
    },
    {
      "cell_type": "code",
      "source": [
        "output = forest.predict([[6.6,36,0,1,0,1,253]])\n",
        "if output == 2:\n",
        "    print(\"Grade : Good\")\n",
        "if output == 1:\n",
        "    print(\"Grade : Moderate\")\n",
        "if output == 0:\n",
        "    print(\"Grade : Bad\")"
      ],
      "metadata": {
        "colab": {
          "base_uri": "https://localhost:8080/"
        },
        "id": "gsyJGIzstbD_",
        "outputId": "f9a4d0c3-eed2-41a8-f959-64faee255d21"
      },
      "execution_count": 535,
      "outputs": [
        {
          "output_type": "stream",
          "name": "stdout",
          "text": [
            "Grade : Good\n"
          ]
        }
      ]
    },
    {
      "cell_type": "markdown",
      "source": [
        "Understand the Parameter Impact on the Quality of Milk using PCA"
      ],
      "metadata": {
        "id": "vYB7RREMxzyb"
      }
    },
    {
      "cell_type": "code",
      "source": [
        "from sklearn.decomposition import PCA\n",
        "pca=PCA(n_components=0.95)\n",
        "pca.fit(x)"
      ],
      "metadata": {
        "colab": {
          "base_uri": "https://localhost:8080/",
          "height": 75
        },
        "id": "_W0DEaX9wDmj",
        "outputId": "2367f513-1aef-44b0-f647-ab90b6033d24"
      },
      "execution_count": 536,
      "outputs": [
        {
          "output_type": "execute_result",
          "data": {
            "text/plain": [
              "PCA(n_components=0.95)"
            ],
            "text/html": [
              "<style>#sk-container-id-5 {color: black;background-color: white;}#sk-container-id-5 pre{padding: 0;}#sk-container-id-5 div.sk-toggleable {background-color: white;}#sk-container-id-5 label.sk-toggleable__label {cursor: pointer;display: block;width: 100%;margin-bottom: 0;padding: 0.3em;box-sizing: border-box;text-align: center;}#sk-container-id-5 label.sk-toggleable__label-arrow:before {content: \"▸\";float: left;margin-right: 0.25em;color: #696969;}#sk-container-id-5 label.sk-toggleable__label-arrow:hover:before {color: black;}#sk-container-id-5 div.sk-estimator:hover label.sk-toggleable__label-arrow:before {color: black;}#sk-container-id-5 div.sk-toggleable__content {max-height: 0;max-width: 0;overflow: hidden;text-align: left;background-color: #f0f8ff;}#sk-container-id-5 div.sk-toggleable__content pre {margin: 0.2em;color: black;border-radius: 0.25em;background-color: #f0f8ff;}#sk-container-id-5 input.sk-toggleable__control:checked~div.sk-toggleable__content {max-height: 200px;max-width: 100%;overflow: auto;}#sk-container-id-5 input.sk-toggleable__control:checked~label.sk-toggleable__label-arrow:before {content: \"▾\";}#sk-container-id-5 div.sk-estimator input.sk-toggleable__control:checked~label.sk-toggleable__label {background-color: #d4ebff;}#sk-container-id-5 div.sk-label input.sk-toggleable__control:checked~label.sk-toggleable__label {background-color: #d4ebff;}#sk-container-id-5 input.sk-hidden--visually {border: 0;clip: rect(1px 1px 1px 1px);clip: rect(1px, 1px, 1px, 1px);height: 1px;margin: -1px;overflow: hidden;padding: 0;position: absolute;width: 1px;}#sk-container-id-5 div.sk-estimator {font-family: monospace;background-color: #f0f8ff;border: 1px dotted black;border-radius: 0.25em;box-sizing: border-box;margin-bottom: 0.5em;}#sk-container-id-5 div.sk-estimator:hover {background-color: #d4ebff;}#sk-container-id-5 div.sk-parallel-item::after {content: \"\";width: 100%;border-bottom: 1px solid gray;flex-grow: 1;}#sk-container-id-5 div.sk-label:hover label.sk-toggleable__label {background-color: #d4ebff;}#sk-container-id-5 div.sk-serial::before {content: \"\";position: absolute;border-left: 1px solid gray;box-sizing: border-box;top: 0;bottom: 0;left: 50%;z-index: 0;}#sk-container-id-5 div.sk-serial {display: flex;flex-direction: column;align-items: center;background-color: white;padding-right: 0.2em;padding-left: 0.2em;position: relative;}#sk-container-id-5 div.sk-item {position: relative;z-index: 1;}#sk-container-id-5 div.sk-parallel {display: flex;align-items: stretch;justify-content: center;background-color: white;position: relative;}#sk-container-id-5 div.sk-item::before, #sk-container-id-5 div.sk-parallel-item::before {content: \"\";position: absolute;border-left: 1px solid gray;box-sizing: border-box;top: 0;bottom: 0;left: 50%;z-index: -1;}#sk-container-id-5 div.sk-parallel-item {display: flex;flex-direction: column;z-index: 1;position: relative;background-color: white;}#sk-container-id-5 div.sk-parallel-item:first-child::after {align-self: flex-end;width: 50%;}#sk-container-id-5 div.sk-parallel-item:last-child::after {align-self: flex-start;width: 50%;}#sk-container-id-5 div.sk-parallel-item:only-child::after {width: 0;}#sk-container-id-5 div.sk-dashed-wrapped {border: 1px dashed gray;margin: 0 0.4em 0.5em 0.4em;box-sizing: border-box;padding-bottom: 0.4em;background-color: white;}#sk-container-id-5 div.sk-label label {font-family: monospace;font-weight: bold;display: inline-block;line-height: 1.2em;}#sk-container-id-5 div.sk-label-container {text-align: center;}#sk-container-id-5 div.sk-container {/* jupyter's `normalize.less` sets `[hidden] { display: none; }` but bootstrap.min.css set `[hidden] { display: none !important; }` so we also need the `!important` here to be able to override the default hidden behavior on the sphinx rendered scikit-learn.org. See: https://github.com/scikit-learn/scikit-learn/issues/21755 */display: inline-block !important;position: relative;}#sk-container-id-5 div.sk-text-repr-fallback {display: none;}</style><div id=\"sk-container-id-5\" class=\"sk-top-container\"><div class=\"sk-text-repr-fallback\"><pre>PCA(n_components=0.95)</pre><b>In a Jupyter environment, please rerun this cell to show the HTML representation or trust the notebook. <br />On GitHub, the HTML representation is unable to render, please try loading this page with nbviewer.org.</b></div><div class=\"sk-container\" hidden><div class=\"sk-item\"><div class=\"sk-estimator sk-toggleable\"><input class=\"sk-toggleable__control sk-hidden--visually\" id=\"sk-estimator-id-5\" type=\"checkbox\" checked><label for=\"sk-estimator-id-5\" class=\"sk-toggleable__label sk-toggleable__label-arrow\">PCA</label><div class=\"sk-toggleable__content\"><pre>PCA(n_components=0.95)</pre></div></div></div></div></div>"
            ]
          },
          "metadata": {},
          "execution_count": 536
        }
      ]
    },
    {
      "cell_type": "code",
      "source": [
        "pca.explained_variance_ratio_"
      ],
      "metadata": {
        "colab": {
          "base_uri": "https://localhost:8080/"
        },
        "id": "oo-NoYmjxInh",
        "outputId": "d695e416-c5f1-4cf5-9043-6f6f171a184a"
      },
      "execution_count": 537,
      "outputs": [
        {
          "output_type": "execute_result",
          "data": {
            "text/plain": [
              "array([0.82711028, 0.15081637])"
            ]
          },
          "metadata": {},
          "execution_count": 537
        }
      ]
    },
    {
      "cell_type": "code",
      "source": [
        "print(pd.DataFrame(pca.components_,columns=x.columns,index = ['PC-1','PC-2']))"
      ],
      "metadata": {
        "colab": {
          "base_uri": "https://localhost:8080/"
        },
        "id": "fq1Wh72WxZL_",
        "outputId": "bec88fc8-75eb-4699-9782-b6dc74ca00d6"
      },
      "execution_count": 538,
      "outputs": [
        {
          "output_type": "stream",
          "name": "stdout",
          "text": [
            "            pH  Temprature     Taste      Odor     Fat   Turbidity    Colour\n",
            "PC-1  0.034563    0.999331 -0.005422 -0.002404  0.00109   0.009167 -0.004789\n",
            "PC-2  0.058047   -0.006565  0.009625  0.004325 -0.01278  -0.016217 -0.998023\n"
          ]
        }
      ]
    },
    {
      "cell_type": "markdown",
      "source": [
        "Observed that temperature and color have over 95% composition to PC-1 and PC-2. For milk factory to ensure the quality of their product, these two parameters are the first priority."
      ],
      "metadata": {
        "id": "jnXAIJWRxtQd"
      }
    },
    {
      "cell_type": "code",
      "source": [
        "import tensorflow as tf\n",
        "from sklearn import metrics\n",
        "from tensorflow.keras.models import Sequential\n",
        "from tensorflow.keras.layers import Dense\n",
        "from keras.layers.attention.multi_head_attention import activation\n",
        "from keras.layers import Dropout\n",
        "from keras import optimizers\n",
        "from keras.wrappers.scikit_learn import KerasClassifier\n",
        "from keras.callbacks import EarlyStopping, ModelCheckpoint\n",
        "\n",
        "# ANN Model Layers\n",
        "from tensorflow.keras.layers import BatchNormalization\n",
        "ann_model =Sequential()\n",
        "\n",
        "ann_model.add(Dense(units = 32,activation = 'relu'))\n",
        "ann_model.add(BatchNormalization())\n",
        "ann_model.add(Dropout(0.5))\n",
        "\n",
        "ann_model.add(Dense(units = 64,activation = 'relu'))\n",
        "ann_model.add(BatchNormalization())\n",
        "ann_model.add(Dropout(0.5))\n",
        "\n",
        "ann_model.add(Dense(units = 1,activation = 'sigmoid'))\n",
        " \n",
        "# Model Optimizer\n",
        "ann_model.compile(optimizer = 'adam', loss = 'binary_crossentropy', metrics = ['accuracy'])"
      ],
      "metadata": {
        "id": "oj_RuthnxxYY"
      },
      "execution_count": 539,
      "outputs": []
    },
    {
      "cell_type": "code",
      "source": [
        "from tensorflow.keras.callbacks import EarlyStopping\n",
        "early_stop = EarlyStopping(monitor='val_loss', mode='min', verbose=1, patience=25)"
      ],
      "metadata": {
        "id": "dFwao3820TZ_"
      },
      "execution_count": 540,
      "outputs": []
    },
    {
      "cell_type": "code",
      "source": [
        "# Training the ANN\n",
        "history = ann_model.fit(X_train, y_train, batch_size=16, epochs=100, validation_data=(X_test, y_test))"
      ],
      "metadata": {
        "colab": {
          "base_uri": "https://localhost:8080/"
        },
        "id": "OxDV1D2R0U2L",
        "outputId": "57b3a080-c119-48a8-cf94-fd67144d0c4f"
      },
      "execution_count": 541,
      "outputs": [
        {
          "output_type": "stream",
          "name": "stdout",
          "text": [
            "Epoch 1/100\n",
            "47/47 [==============================] - 3s 15ms/step - loss: 0.8353 - accuracy: 0.2848 - val_loss: 1.7722 - val_accuracy: 0.2233\n",
            "Epoch 2/100\n",
            "47/47 [==============================] - 0s 8ms/step - loss: 0.4574 - accuracy: 0.3144 - val_loss: 0.7505 - val_accuracy: 0.4245\n",
            "Epoch 3/100\n",
            "47/47 [==============================] - 0s 5ms/step - loss: 0.2592 - accuracy: 0.3171 - val_loss: 0.9577 - val_accuracy: 0.2987\n",
            "Epoch 4/100\n",
            "47/47 [==============================] - 0s 5ms/step - loss: -0.0194 - accuracy: 0.3495 - val_loss: 1.2085 - val_accuracy: 0.2421\n",
            "Epoch 5/100\n",
            "47/47 [==============================] - 0s 5ms/step - loss: -0.3311 - accuracy: 0.3414 - val_loss: 1.4078 - val_accuracy: 0.2421\n",
            "Epoch 6/100\n",
            "47/47 [==============================] - 0s 6ms/step - loss: -0.7971 - accuracy: 0.3603 - val_loss: 0.3729 - val_accuracy: 0.3113\n",
            "Epoch 7/100\n",
            "47/47 [==============================] - 0s 5ms/step - loss: -1.3302 - accuracy: 0.3752 - val_loss: -2.6299 - val_accuracy: 0.4465\n",
            "Epoch 8/100\n",
            "47/47 [==============================] - 0s 5ms/step - loss: -2.0372 - accuracy: 0.3752 - val_loss: -5.9688 - val_accuracy: 0.4465\n",
            "Epoch 9/100\n",
            "47/47 [==============================] - 0s 6ms/step - loss: -3.1114 - accuracy: 0.3563 - val_loss: -6.7453 - val_accuracy: 0.4465\n",
            "Epoch 10/100\n",
            "47/47 [==============================] - 0s 4ms/step - loss: -4.4402 - accuracy: 0.3657 - val_loss: -9.1837 - val_accuracy: 0.4465\n",
            "Epoch 11/100\n",
            "47/47 [==============================] - 0s 5ms/step - loss: -5.7543 - accuracy: 0.3401 - val_loss: -8.4993 - val_accuracy: 0.4465\n",
            "Epoch 12/100\n",
            "47/47 [==============================] - 0s 5ms/step - loss: -7.3665 - accuracy: 0.3752 - val_loss: -10.0374 - val_accuracy: 0.4308\n",
            "Epoch 13/100\n",
            "47/47 [==============================] - 0s 6ms/step - loss: -9.8079 - accuracy: 0.3549 - val_loss: -13.4581 - val_accuracy: 0.4308\n",
            "Epoch 14/100\n",
            "47/47 [==============================] - 0s 5ms/step - loss: -12.5168 - accuracy: 0.3603 - val_loss: -21.1777 - val_accuracy: 0.4465\n",
            "Epoch 15/100\n",
            "47/47 [==============================] - 0s 5ms/step - loss: -14.6049 - accuracy: 0.3441 - val_loss: -22.9497 - val_accuracy: 0.4308\n",
            "Epoch 16/100\n",
            "47/47 [==============================] - 0s 5ms/step - loss: -17.3802 - accuracy: 0.3833 - val_loss: -32.3052 - val_accuracy: 0.4465\n",
            "Epoch 17/100\n",
            "47/47 [==============================] - 0s 5ms/step - loss: -20.4203 - accuracy: 0.3779 - val_loss: 28.7527 - val_accuracy: 0.2233\n",
            "Epoch 18/100\n",
            "47/47 [==============================] - 0s 6ms/step - loss: -24.6058 - accuracy: 0.3671 - val_loss: -15.0614 - val_accuracy: 0.3711\n",
            "Epoch 19/100\n",
            "47/47 [==============================] - 0s 5ms/step - loss: -28.1322 - accuracy: 0.3684 - val_loss: -41.6975 - val_accuracy: 0.4465\n",
            "Epoch 20/100\n",
            "47/47 [==============================] - 0s 6ms/step - loss: -31.5038 - accuracy: 0.3765 - val_loss: -58.0699 - val_accuracy: 0.4465\n",
            "Epoch 21/100\n",
            "47/47 [==============================] - 0s 4ms/step - loss: -37.1107 - accuracy: 0.3671 - val_loss: -28.1215 - val_accuracy: 0.4119\n",
            "Epoch 22/100\n",
            "47/47 [==============================] - 0s 6ms/step - loss: -41.4394 - accuracy: 0.3887 - val_loss: -55.1119 - val_accuracy: 0.4465\n",
            "Epoch 23/100\n",
            "47/47 [==============================] - 0s 4ms/step - loss: -46.8173 - accuracy: 0.3603 - val_loss: -34.2424 - val_accuracy: 0.4465\n",
            "Epoch 24/100\n",
            "47/47 [==============================] - 0s 5ms/step - loss: -53.3995 - accuracy: 0.3846 - val_loss: -79.4889 - val_accuracy: 0.4465\n",
            "Epoch 25/100\n",
            "47/47 [==============================] - 0s 4ms/step - loss: -55.8671 - accuracy: 0.3968 - val_loss: -96.6811 - val_accuracy: 0.4465\n",
            "Epoch 26/100\n",
            "47/47 [==============================] - 0s 4ms/step - loss: -62.6690 - accuracy: 0.3873 - val_loss: -73.0923 - val_accuracy: 0.5031\n",
            "Epoch 27/100\n",
            "47/47 [==============================] - 0s 5ms/step - loss: -70.0078 - accuracy: 0.3846 - val_loss: -103.8687 - val_accuracy: 0.4465\n",
            "Epoch 28/100\n",
            "47/47 [==============================] - 0s 4ms/step - loss: -74.0151 - accuracy: 0.3995 - val_loss: -98.5999 - val_accuracy: 0.4465\n",
            "Epoch 29/100\n",
            "47/47 [==============================] - 0s 5ms/step - loss: -81.4692 - accuracy: 0.3752 - val_loss: -133.1472 - val_accuracy: 0.4465\n",
            "Epoch 30/100\n",
            "47/47 [==============================] - 0s 6ms/step - loss: -83.8140 - accuracy: 0.3954 - val_loss: -121.2506 - val_accuracy: 0.4465\n",
            "Epoch 31/100\n",
            "47/47 [==============================] - 0s 5ms/step - loss: -91.7708 - accuracy: 0.3684 - val_loss: -81.0528 - val_accuracy: 0.5031\n",
            "Epoch 32/100\n",
            "47/47 [==============================] - 0s 4ms/step - loss: -101.9990 - accuracy: 0.3671 - val_loss: -126.8354 - val_accuracy: 0.4465\n",
            "Epoch 33/100\n",
            "47/47 [==============================] - 0s 5ms/step - loss: -106.1114 - accuracy: 0.3846 - val_loss: -108.8285 - val_accuracy: 0.4465\n",
            "Epoch 34/100\n",
            "47/47 [==============================] - 0s 5ms/step - loss: -112.6103 - accuracy: 0.3806 - val_loss: -116.1425 - val_accuracy: 0.4465\n",
            "Epoch 35/100\n",
            "47/47 [==============================] - 0s 5ms/step - loss: -119.6850 - accuracy: 0.3779 - val_loss: -85.5781 - val_accuracy: 0.5031\n",
            "Epoch 36/100\n",
            "47/47 [==============================] - 0s 4ms/step - loss: -127.8973 - accuracy: 0.3752 - val_loss: -81.7427 - val_accuracy: 0.5031\n",
            "Epoch 37/100\n",
            "47/47 [==============================] - 0s 4ms/step - loss: -137.1686 - accuracy: 0.3738 - val_loss: -220.2061 - val_accuracy: 0.4465\n",
            "Epoch 38/100\n",
            "47/47 [==============================] - 0s 5ms/step - loss: -142.4577 - accuracy: 0.3833 - val_loss: -227.2769 - val_accuracy: 0.4465\n",
            "Epoch 39/100\n",
            "47/47 [==============================] - 0s 5ms/step - loss: -150.9939 - accuracy: 0.3765 - val_loss: -212.9172 - val_accuracy: 0.4465\n",
            "Epoch 40/100\n",
            "47/47 [==============================] - 0s 5ms/step - loss: -155.0971 - accuracy: 0.3833 - val_loss: -135.3906 - val_accuracy: 0.4591\n",
            "Epoch 41/100\n",
            "47/47 [==============================] - 0s 4ms/step - loss: -170.2752 - accuracy: 0.3671 - val_loss: -52.9415 - val_accuracy: 0.3931\n",
            "Epoch 42/100\n",
            "47/47 [==============================] - 0s 5ms/step - loss: -176.0824 - accuracy: 0.3927 - val_loss: -231.2810 - val_accuracy: 0.4465\n",
            "Epoch 43/100\n",
            "47/47 [==============================] - 0s 7ms/step - loss: -182.3314 - accuracy: 0.4049 - val_loss: -252.3937 - val_accuracy: 0.4465\n",
            "Epoch 44/100\n",
            "47/47 [==============================] - 0s 8ms/step - loss: -193.2617 - accuracy: 0.3941 - val_loss: -262.2277 - val_accuracy: 0.4465\n",
            "Epoch 45/100\n",
            "47/47 [==============================] - 0s 7ms/step - loss: -203.2847 - accuracy: 0.3752 - val_loss: -299.8663 - val_accuracy: 0.4465\n",
            "Epoch 46/100\n",
            "47/47 [==============================] - 0s 7ms/step - loss: -209.3905 - accuracy: 0.3765 - val_loss: -241.0566 - val_accuracy: 0.4465\n",
            "Epoch 47/100\n",
            "47/47 [==============================] - 0s 7ms/step - loss: -223.1671 - accuracy: 0.3819 - val_loss: -231.8261 - val_accuracy: 0.4465\n",
            "Epoch 48/100\n",
            "47/47 [==============================] - 0s 7ms/step - loss: -229.4288 - accuracy: 0.3698 - val_loss: -175.6330 - val_accuracy: 0.4340\n",
            "Epoch 49/100\n",
            "47/47 [==============================] - 0s 7ms/step - loss: -243.4348 - accuracy: 0.3887 - val_loss: 25.2835 - val_accuracy: 0.3176\n",
            "Epoch 50/100\n",
            "47/47 [==============================] - 0s 7ms/step - loss: -254.1732 - accuracy: 0.3954 - val_loss: -182.0770 - val_accuracy: 0.4906\n",
            "Epoch 51/100\n",
            "47/47 [==============================] - 0s 7ms/step - loss: -256.2039 - accuracy: 0.3873 - val_loss: -158.2885 - val_accuracy: 0.3553\n",
            "Epoch 52/100\n",
            "47/47 [==============================] - 0s 7ms/step - loss: -276.5579 - accuracy: 0.3981 - val_loss: -188.5363 - val_accuracy: 0.4465\n",
            "Epoch 53/100\n",
            "47/47 [==============================] - 0s 7ms/step - loss: -282.3875 - accuracy: 0.3846 - val_loss: -207.3891 - val_accuracy: 0.4654\n",
            "Epoch 54/100\n",
            "47/47 [==============================] - 0s 9ms/step - loss: -289.4112 - accuracy: 0.3981 - val_loss: -169.0223 - val_accuracy: 0.3553\n",
            "Epoch 55/100\n",
            "47/47 [==============================] - 0s 7ms/step - loss: -303.1854 - accuracy: 0.3887 - val_loss: -138.4663 - val_accuracy: 0.3931\n",
            "Epoch 56/100\n",
            "47/47 [==============================] - 0s 7ms/step - loss: -314.4856 - accuracy: 0.4103 - val_loss: -193.4510 - val_accuracy: 0.4465\n",
            "Epoch 57/100\n",
            "47/47 [==============================] - 0s 5ms/step - loss: -322.4438 - accuracy: 0.3927 - val_loss: -242.0830 - val_accuracy: 0.4465\n",
            "Epoch 58/100\n",
            "47/47 [==============================] - 0s 5ms/step - loss: -332.3199 - accuracy: 0.3941 - val_loss: -424.4140 - val_accuracy: 0.4465\n",
            "Epoch 59/100\n",
            "47/47 [==============================] - 0s 6ms/step - loss: -345.7946 - accuracy: 0.3711 - val_loss: -514.5962 - val_accuracy: 0.4465\n",
            "Epoch 60/100\n",
            "47/47 [==============================] - 0s 7ms/step - loss: -368.7892 - accuracy: 0.3833 - val_loss: -453.2993 - val_accuracy: 0.4465\n",
            "Epoch 61/100\n",
            "47/47 [==============================] - 0s 4ms/step - loss: -372.2834 - accuracy: 0.3914 - val_loss: -585.5071 - val_accuracy: 0.4465\n",
            "Epoch 62/100\n",
            "47/47 [==============================] - 0s 5ms/step - loss: -372.0308 - accuracy: 0.3711 - val_loss: -408.0281 - val_accuracy: 0.4465\n",
            "Epoch 63/100\n",
            "47/47 [==============================] - 0s 6ms/step - loss: -382.1173 - accuracy: 0.3698 - val_loss: -205.1441 - val_accuracy: 0.3553\n",
            "Epoch 64/100\n",
            "47/47 [==============================] - 0s 5ms/step - loss: -403.8972 - accuracy: 0.3819 - val_loss: -263.1548 - val_accuracy: 0.3679\n",
            "Epoch 65/100\n",
            "47/47 [==============================] - 0s 5ms/step - loss: -408.5902 - accuracy: 0.3725 - val_loss: -364.3766 - val_accuracy: 0.4465\n",
            "Epoch 66/100\n",
            "47/47 [==============================] - 0s 4ms/step - loss: -444.6405 - accuracy: 0.3900 - val_loss: -558.0352 - val_accuracy: 0.4465\n",
            "Epoch 67/100\n",
            "47/47 [==============================] - 0s 4ms/step - loss: -442.9117 - accuracy: 0.3630 - val_loss: -510.4659 - val_accuracy: 0.4465\n",
            "Epoch 68/100\n",
            "47/47 [==============================] - 0s 5ms/step - loss: -444.7240 - accuracy: 0.3860 - val_loss: -140.0395 - val_accuracy: 0.3333\n",
            "Epoch 69/100\n",
            "47/47 [==============================] - 0s 4ms/step - loss: -475.5094 - accuracy: 0.3536 - val_loss: 10.5305 - val_accuracy: 0.3270\n",
            "Epoch 70/100\n",
            "47/47 [==============================] - 0s 5ms/step - loss: -464.1736 - accuracy: 0.3927 - val_loss: -549.6415 - val_accuracy: 0.4465\n",
            "Epoch 71/100\n",
            "47/47 [==============================] - 0s 5ms/step - loss: -492.8769 - accuracy: 0.3752 - val_loss: -428.4561 - val_accuracy: 0.4465\n",
            "Epoch 72/100\n",
            "47/47 [==============================] - 0s 4ms/step - loss: -507.6864 - accuracy: 0.3954 - val_loss: -599.1698 - val_accuracy: 0.4465\n",
            "Epoch 73/100\n",
            "47/47 [==============================] - 0s 5ms/step - loss: -505.6771 - accuracy: 0.3873 - val_loss: -558.1099 - val_accuracy: 0.3931\n",
            "Epoch 74/100\n",
            "47/47 [==============================] - 0s 4ms/step - loss: -517.7109 - accuracy: 0.3684 - val_loss: -632.1342 - val_accuracy: 0.3491\n",
            "Epoch 75/100\n",
            "47/47 [==============================] - 0s 5ms/step - loss: -539.6542 - accuracy: 0.3752 - val_loss: -442.8048 - val_accuracy: 0.3648\n",
            "Epoch 76/100\n",
            "47/47 [==============================] - 0s 5ms/step - loss: -555.4077 - accuracy: 0.3860 - val_loss: -206.1632 - val_accuracy: 0.3333\n",
            "Epoch 77/100\n",
            "47/47 [==============================] - 0s 6ms/step - loss: -586.1453 - accuracy: 0.3846 - val_loss: -313.6277 - val_accuracy: 0.4528\n",
            "Epoch 78/100\n",
            "47/47 [==============================] - 0s 5ms/step - loss: -574.1517 - accuracy: 0.3617 - val_loss: -840.4865 - val_accuracy: 0.4465\n",
            "Epoch 79/100\n",
            "47/47 [==============================] - 0s 5ms/step - loss: -596.5399 - accuracy: 0.3900 - val_loss: -796.8464 - val_accuracy: 0.4465\n",
            "Epoch 80/100\n",
            "47/47 [==============================] - 0s 5ms/step - loss: -615.5899 - accuracy: 0.3914 - val_loss: -782.9871 - val_accuracy: 0.4465\n",
            "Epoch 81/100\n",
            "47/47 [==============================] - 0s 5ms/step - loss: -588.2255 - accuracy: 0.3698 - val_loss: -586.1548 - val_accuracy: 0.4465\n",
            "Epoch 82/100\n",
            "47/47 [==============================] - 0s 4ms/step - loss: -647.2042 - accuracy: 0.3968 - val_loss: -492.2997 - val_accuracy: 0.4465\n",
            "Epoch 83/100\n",
            "47/47 [==============================] - 0s 5ms/step - loss: -655.1545 - accuracy: 0.3887 - val_loss: -579.3822 - val_accuracy: 0.4465\n",
            "Epoch 84/100\n",
            "47/47 [==============================] - 0s 5ms/step - loss: -670.9818 - accuracy: 0.3765 - val_loss: 68.4051 - val_accuracy: 0.3176\n",
            "Epoch 85/100\n",
            "47/47 [==============================] - 0s 4ms/step - loss: -694.2730 - accuracy: 0.3725 - val_loss: 168.2421 - val_accuracy: 0.3176\n",
            "Epoch 86/100\n",
            "47/47 [==============================] - 0s 5ms/step - loss: -696.4536 - accuracy: 0.3927 - val_loss: -652.4473 - val_accuracy: 0.3553\n",
            "Epoch 87/100\n",
            "47/47 [==============================] - 0s 5ms/step - loss: -698.4066 - accuracy: 0.3806 - val_loss: -898.7029 - val_accuracy: 0.4623\n",
            "Epoch 88/100\n",
            "47/47 [==============================] - 0s 4ms/step - loss: -744.1851 - accuracy: 0.3927 - val_loss: -181.1953 - val_accuracy: 0.3176\n",
            "Epoch 89/100\n",
            "47/47 [==============================] - 0s 5ms/step - loss: -757.4639 - accuracy: 0.3981 - val_loss: -701.5807 - val_accuracy: 0.4465\n",
            "Epoch 90/100\n",
            "47/47 [==============================] - 0s 5ms/step - loss: -732.1977 - accuracy: 0.3846 - val_loss: -935.1812 - val_accuracy: 0.4465\n",
            "Epoch 91/100\n",
            "47/47 [==============================] - 0s 5ms/step - loss: -768.7984 - accuracy: 0.3671 - val_loss: -563.9218 - val_accuracy: 0.3553\n",
            "Epoch 92/100\n",
            "47/47 [==============================] - 0s 4ms/step - loss: -804.4438 - accuracy: 0.3738 - val_loss: -634.8298 - val_accuracy: 0.4497\n",
            "Epoch 93/100\n",
            "47/47 [==============================] - 0s 5ms/step - loss: -793.6494 - accuracy: 0.3887 - val_loss: -650.2643 - val_accuracy: 0.3931\n",
            "Epoch 94/100\n",
            "47/47 [==============================] - 0s 5ms/step - loss: -809.9323 - accuracy: 0.3873 - val_loss: -681.8376 - val_accuracy: 0.4497\n",
            "Epoch 95/100\n",
            "47/47 [==============================] - 0s 4ms/step - loss: -857.0920 - accuracy: 0.3914 - val_loss: -355.3805 - val_accuracy: 0.4151\n",
            "Epoch 96/100\n",
            "47/47 [==============================] - 0s 5ms/step - loss: -853.6061 - accuracy: 0.3968 - val_loss: -441.2316 - val_accuracy: 0.3962\n",
            "Epoch 97/100\n",
            "47/47 [==============================] - 0s 5ms/step - loss: -864.2786 - accuracy: 0.3819 - val_loss: 243.4571 - val_accuracy: 0.3176\n",
            "Epoch 98/100\n",
            "47/47 [==============================] - 0s 7ms/step - loss: -872.3366 - accuracy: 0.3806 - val_loss: -882.6126 - val_accuracy: 0.3553\n",
            "Epoch 99/100\n",
            "47/47 [==============================] - 0s 6ms/step - loss: -900.2394 - accuracy: 0.3698 - val_loss: -481.9244 - val_accuracy: 0.4528\n",
            "Epoch 100/100\n",
            "47/47 [==============================] - 0s 5ms/step - loss: -907.0058 - accuracy: 0.3968 - val_loss: -707.8913 - val_accuracy: 0.4465\n"
          ]
        }
      ]
    },
    {
      "cell_type": "code",
      "source": [
        "ann_model.summary()"
      ],
      "metadata": {
        "colab": {
          "base_uri": "https://localhost:8080/"
        },
        "id": "TbDsCCS704Zw",
        "outputId": "79f13ca1-38b8-47c2-dc85-06f3078cbf25"
      },
      "execution_count": 542,
      "outputs": [
        {
          "output_type": "stream",
          "name": "stdout",
          "text": [
            "Model: \"sequential_4\"\n",
            "_________________________________________________________________\n",
            " Layer (type)                Output Shape              Param #   \n",
            "=================================================================\n",
            " dense_12 (Dense)            (None, 32)                256       \n",
            "                                                                 \n",
            " batch_normalization_8 (Batc  (None, 32)               128       \n",
            " hNormalization)                                                 \n",
            "                                                                 \n",
            " dropout_8 (Dropout)         (None, 32)                0         \n",
            "                                                                 \n",
            " dense_13 (Dense)            (None, 64)                2112      \n",
            "                                                                 \n",
            " batch_normalization_9 (Batc  (None, 64)               256       \n",
            " hNormalization)                                                 \n",
            "                                                                 \n",
            " dropout_9 (Dropout)         (None, 64)                0         \n",
            "                                                                 \n",
            " dense_14 (Dense)            (None, 1)                 65        \n",
            "                                                                 \n",
            "=================================================================\n",
            "Total params: 2,817\n",
            "Trainable params: 2,625\n",
            "Non-trainable params: 192\n",
            "_________________________________________________________________\n"
          ]
        }
      ]
    },
    {
      "cell_type": "code",
      "source": [
        "loss_plot = pd.DataFrame(ann_model.history.history)\n",
        "loss_plot.plot()"
      ],
      "metadata": {
        "colab": {
          "base_uri": "https://localhost:8080/",
          "height": 447
        },
        "id": "4mGavUQN1KtW",
        "outputId": "c9f3c2aa-986e-49f8-a2b4-68150afd9c8f"
      },
      "execution_count": 543,
      "outputs": [
        {
          "output_type": "execute_result",
          "data": {
            "text/plain": [
              "<Axes: >"
            ]
          },
          "metadata": {},
          "execution_count": 543
        },
        {
          "output_type": "display_data",
          "data": {
            "text/plain": [
              "<Figure size 640x480 with 1 Axes>"
            ],
            "image/png": "[encoded data removed]"
          },
          "metadata": {}
        }
      ]
    },
    {
      "cell_type": "code",
      "source": [
        "#now testing for Test data\n",
        "y_pred = ann_model.predict(X_test)\n",
        "y_pred = (y_pred>0.5)\n",
        "acc_test_ann1 = round(metrics.accuracy_score(y_test,y_pred) * 100, 2)\n",
        "acc_test_ann1"
      ],
      "metadata": {
        "colab": {
          "base_uri": "https://localhost:8080/"
        },
        "id": "FbczEGn01Rah",
        "outputId": "77c3bbdc-14a5-415a-801a-6f191852e46c"
      },
      "execution_count": 544,
      "outputs": [
        {
          "output_type": "stream",
          "name": "stdout",
          "text": [
            "10/10 [==============================] - 0s 3ms/step\n"
          ]
        },
        {
          "output_type": "execute_result",
          "data": {
            "text/plain": [
              "44.65"
            ]
          },
          "metadata": {},
          "execution_count": 544
        }
      ]
    },
    {
      "cell_type": "code",
      "source": [
        "from sklearn.metrics import confusion_matrix\n",
        "from sklearn.metrics import accuracy_score\n",
        "cm = confusion_matrix(y_test,y_pred)\n",
        "acc_test_ann1 = accuracy_score(y_test,y_pred)\n",
        "print(cm)\n",
        "print('score is:',acc_test_ann1)"
      ],
      "metadata": {
        "colab": {
          "base_uri": "https://localhost:8080/"
        },
        "id": "AgrVeMlG1aU8",
        "outputId": "c50d2215-54ce-42b6-8f30-a8b5ce262bc9"
      },
      "execution_count": 545,
      "outputs": [
        {
          "output_type": "stream",
          "name": "stdout",
          "text": [
            "[[  0  71   0]\n",
            " [  0 142   0]\n",
            " [  0 105   0]]\n",
            "score is: 0.44654088050314467\n"
          ]
        }
      ]
    },
    {
      "cell_type": "code",
      "source": [
        "print(classification_report(y_test,y_pred))"
      ],
      "metadata": {
        "colab": {
          "base_uri": "https://localhost:8080/"
        },
        "id": "BUpPOs0h1bkC",
        "outputId": "73934c82-c14a-4f1a-c0a6-c3ef7b01279b"
      },
      "execution_count": 546,
      "outputs": [
        {
          "output_type": "stream",
          "name": "stdout",
          "text": [
            "              precision    recall  f1-score   support\n",
            "\n",
            "           0       0.00      0.00      0.00        71\n",
            "           1       0.45      1.00      0.62       142\n",
            "           2       0.00      0.00      0.00       105\n",
            "\n",
            "    accuracy                           0.45       318\n",
            "   macro avg       0.15      0.33      0.21       318\n",
            "weighted avg       0.20      0.45      0.28       318\n",
            "\n"
          ]
        }
      ]
    }
  ]
}